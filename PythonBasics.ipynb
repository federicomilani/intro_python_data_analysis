{
 "cells": [
  {
   "cell_type": "markdown",
   "metadata": {},
   "source": [
    "# Introduction to Python\n",
    "\n",
    "This tutorial assumes you have some experience with programming langauges and ideally have a little bit of knowledge of python. Nonetheless we will starting by revising the basic constructs of the python language."
   ]
  },
  {
   "cell_type": "markdown",
   "metadata": {},
   "source": [
    "There are a lot of excellent resources on the internet for learning python. This short series of tutorials condenses the most important parts for data analysis. For a more in depth understanding of python, exploring these exellent tutorials is recommended:\n",
    "\n",
    "* Software Carpentry https://swcarpentry.github.io/python-novice-inflammation/index.html\n",
    "* DataCamp https://www.datacamp.com/courses/intro-to-python-for-data-science\n"
   ]
  },
  {
   "cell_type": "markdown",
   "metadata": {},
   "source": [
    "Python is an interpreted langauge, which means that you can run code interactively, unlike a compiled language (e.g. C++, Julia, Fortran) where you have to build your application into machine code and then run it.Your code runs in an interpreter environment, which inprets the code into instructions for the machine you are running on. This means that most of the time, your python code can run on many different environments so long a  python inerpreter is installed.\n",
    "\n",
    "Another key concept of the python language is whitespace (that is space characters), which are used to divide your program into blocks of code in various ways. Unlike other languages where a character like a semicolon (;) denotes the end of a line, here the indentation of the code denotes the betginning and end of blocks of code.\n",
    "\n",
    "We will now go through the basic language block constructs and their syntax. To start with lets look at some basic statements."
   ]
  },
  {
   "cell_type": "markdown",
   "metadata": {},
   "source": [
    "Assign the result of some basic Maths to a variable"
   ]
  },
  {
   "cell_type": "code",
   "execution_count": 2,
   "metadata": {},
   "outputs": [],
   "source": [
    "a = 3\n",
    "b = 2\n",
    "a_times_b = a * b\n",
    "a_squared_plus_b = a ** 2 + b"
   ]
  },
  {
   "cell_type": "code",
   "execution_count": 6,
   "metadata": {},
   "outputs": [
    {
     "data": {
      "text/plain": [
       "True"
      ]
     },
     "execution_count": 6,
     "metadata": {},
     "output_type": "execute_result"
    }
   ],
   "source": [
    "threshold = 5 \n",
    "result_above_threshold = a_times_b > threshold\n",
    "result_above_threshold"
   ]
  },
  {
   "cell_type": "markdown",
   "metadata": {},
   "source": [
    "### Strings\n",
    "\n",
    "Python handles strings very easily. "
   ]
  },
  {
   "cell_type": "code",
   "execution_count": 7,
   "metadata": {},
   "outputs": [
    {
     "name": "stdout",
     "output_type": "stream",
     "text": [
      "this is a string\n"
     ]
    }
   ],
   "source": [
    "print('this is a string')"
   ]
  },
  {
   "cell_type": "markdown",
   "metadata": {},
   "source": [
    "A very useful command \"format\" allows you to easily mix in results you have calculated with your string. This shows 2 ways to call this command. You will the two resulting string are identical."
   ]
  },
  {
   "cell_type": "code",
   "execution_count": 8,
   "metadata": {},
   "outputs": [
    {
     "name": "stdout",
     "output_type": "stream",
     "text": [
      "The results of a multipled by b is 6\n",
      "The results of a multipled by b is 6\n"
     ]
    }
   ],
   "source": [
    "s1 = 'The results of a multipled by b is {result}'.format(result=a_times_b)\n",
    "s2 = f'The results of a multipled by b is {a_times_b}'\n",
    "print(s1)\n",
    "print(s2)"
   ]
  },
  {
   "cell_type": "markdown",
   "metadata": {},
   "source": [
    "### Conditional statements\n",
    "Conditional statements are the part of a programming language that allow you to different things based on a certain condition e.g. the value of a variable."
   ]
  },
  {
   "cell_type": "code",
   "execution_count": 10,
   "metadata": {},
   "outputs": [
    {
     "name": "stdout",
     "output_type": "stream",
     "text": [
      "The result of 6 is greater than the threshold of 5\n"
     ]
    }
   ],
   "source": [
    "if a_times_b > threshold:\n",
    "    print(f'The result of {a_times_b} is greater than the threshold of {threshold}')\n",
    "else:\n",
    "    print(f'The result of {a_times_b} is less than the threshold of {threshold}')\n"
   ]
  },
  {
   "cell_type": "markdown",
   "metadata": {},
   "source": [
    "### Repitition\n",
    "An important part of any part of a programming language is being able do the same action multiple times, usually do the same action to each in a collection of items. In python this is done with a for or while loop."
   ]
  },
  {
   "cell_type": "code",
   "execution_count": 11,
   "metadata": {},
   "outputs": [
    {
     "name": "stdout",
     "output_type": "stream",
     "text": [
      "Doing job on item 0\n",
      "Doing job on item 1\n",
      "Doing job on item 2\n",
      "Doing job on item 3\n",
      "Doing job on item 4\n"
     ]
    }
   ],
   "source": [
    "for index1 in range(5):\n",
    "    print(f'Doing job on item {index1}')"
   ]
  },
  {
   "cell_type": "code",
   "execution_count": 13,
   "metadata": {},
   "outputs": [
    {
     "name": "stdout",
     "output_type": "stream",
     "text": [
      "Doing job on item 0\n",
      "Doing job on item 1\n",
      "Doing job on item 2\n",
      "Doing job on item 3\n",
      "Doing job on item 4\n"
     ]
    }
   ],
   "source": [
    "index2 = 0\n",
    "while index2 < threshold:\n",
    "    print(f'Doing job on item {index2}')\n",
    "    index2 += 1"
   ]
  },
  {
   "cell_type": "markdown",
   "metadata": {},
   "source": [
    "We will see later that most of the time the for loop is more appropriate in modern programming, though we will see that often we don't need to explictly repeat our action at all."
   ]
  },
  {
   "cell_type": "markdown",
   "metadata": {},
   "source": [
    "### Reusing code - functions\n",
    "\n",
    "We often find we need to perform the same action many times but as part of different workflows so a loop is not suitable. To use code repeatedly without just cutting and pasting, we define a function as follows, then call the function. We will demomstrate this by defining a function to calculate the area of triangle using Heron's Formula:\n",
    "https://www.mathopenref.com/heronsformula.html"
   ]
  },
  {
   "cell_type": "code",
   "execution_count": 14,
   "metadata": {},
   "outputs": [],
   "source": [
    "def triangle_perimeter(a,b,c):\n",
    "    \"\"\"\n",
    "    This function calculates the perimeter of a triangle, given by the lengths of the 3 sides a,b,c.\n",
    "    \"\"\"\n",
    "    return a+b+c    "
   ]
  },
  {
   "cell_type": "code",
   "execution_count": null,
   "metadata": {},
   "outputs": [],
   "source": [
    "def triangle_area(a,b,c):\n",
    "    \"\"\"\n",
    "    This function calculates the area of a triangle, given by the lengths of the 3 sides a,b,c.\n",
    "    \"\"\"\n",
    "    semiperimeter = 0. * triangle_perimeter(a,b,c)\n",
    "    area = (semiperimeter * (semiperimeter - a) * (semiperimeter - b) * (semiperimeter - c))\n",
    "    return area\n",
    "    "
   ]
  },
  {
   "cell_type": "code",
   "execution_count": 15,
   "metadata": {},
   "outputs": [
    {
     "ename": "NameError",
     "evalue": "name 'sqrt' is not defined",
     "output_type": "error",
     "traceback": [
      "\u001b[1;31m---------------------------------------------------------------------------\u001b[0m",
      "\u001b[1;31mNameError\u001b[0m                                 Traceback (most recent call last)",
      "\u001b[1;32m<ipython-input-15-66e338417901>\u001b[0m in \u001b[0;36m<module>\u001b[1;34m\u001b[0m\n\u001b[1;32m----> 1\u001b[1;33m \u001b[0msqrt\u001b[0m\u001b[1;33m(\u001b[0m\u001b[1;36m2\u001b[0m\u001b[1;33m)\u001b[0m\u001b[1;33m\u001b[0m\u001b[1;33m\u001b[0m\u001b[0m\n\u001b[0m",
      "\u001b[1;31mNameError\u001b[0m: name 'sqrt' is not defined"
     ]
    }
   ],
   "source": []
  },
  {
   "cell_type": "code",
   "execution_count": null,
   "metadata": {},
   "outputs": [],
   "source": []
  }
 ],
 "metadata": {
  "kernelspec": {
   "display_name": "Python 3",
   "language": "python",
   "name": "python3"
  },
  "language_info": {
   "codemirror_mode": {
    "name": "ipython",
    "version": 3
   },
   "file_extension": ".py",
   "mimetype": "text/x-python",
   "name": "python",
   "nbconvert_exporter": "python",
   "pygments_lexer": "ipython3",
   "version": "3.8.6"
  }
 },
 "nbformat": 4,
 "nbformat_minor": 4
}
