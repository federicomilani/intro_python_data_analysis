{
 "cells": [
  {
   "cell_type": "markdown",
   "metadata": {},
   "source": [
    "# Part 1- Introduction to Python\n",
    "\n",
    "This tutorial assumes you have some experience with programming langauges and ideally have a little bit of knowledge of python. Nonetheless we will starting by revising the basic constructs of the python language.\n",
    "\n",
    "![Python Logo](https://www.python.org/static/community_logos/python-logo-master-v3-TM.png)"
   ]
  },
  {
   "cell_type": "markdown",
   "metadata": {},
   "source": [
    "There are a lot of excellent resources on the internet for learning python. This short series of tutorials condenses the most important parts for data analysis. For a more in depth understanding of python, exploring these exellent tutorials is recommended:\n",
    "\n",
    "* Software Carpentry https://swcarpentry.github.io/python-novice-inflammation/index.html\n",
    "* DataCamp https://www.datacamp.com/courses/intro-to-python-for-data-science\n"
   ]
  },
  {
   "cell_type": "markdown",
   "metadata": {},
   "source": [
    "Python is an interpreted langauge, which means that you can run code interactively, unlike a compiled language (e.g. C++, Julia, Fortran) where you have to build your application into machine code and then run it.Your code runs in an interpreter environment, which inprets the code into instructions for the machine you are running on. This means that most of the time, your python code can run on many different environments so long a  python inerpreter is installed.\n",
    "\n",
    "Another key concept of the python language is whitespace (that is space characters), which are used to divide your program into blocks of code in various ways. Unlike other languages where a character like a semicolon (;) denotes the end of a line, here the indentation of the code denotes the betginning and end of blocks of code.\n",
    "\n",
    "We will now go through the basic language block constructs and their syntax. To start with lets look at some basic statements."
   ]
  },
  {
   "cell_type": "markdown",
   "metadata": {},
   "source": [
    "Assign the result of some basic Maths to a variable"
   ]
  },
  {
   "cell_type": "code",
   "execution_count": 1,
   "metadata": {},
   "outputs": [],
   "source": [
    "a = 3\n",
    "b = 2\n",
    "a_times_b = a * b\n",
    "a_squared_plus_b = a ** 2 + b"
   ]
  },
  {
   "cell_type": "code",
   "execution_count": 2,
   "metadata": {},
   "outputs": [
    {
     "data": {
      "text/plain": [
       "True"
      ]
     },
     "execution_count": 2,
     "metadata": {},
     "output_type": "execute_result"
    }
   ],
   "source": [
    "threshold = 5 \n",
    "result_above_threshold = a_times_b > threshold\n",
    "result_above_threshold"
   ]
  },
  {
   "cell_type": "markdown",
   "metadata": {},
   "source": [
    "### Strings\n",
    "\n",
    "Python handles strings very easily. "
   ]
  },
  {
   "cell_type": "code",
   "execution_count": 3,
   "metadata": {},
   "outputs": [
    {
     "name": "stdout",
     "output_type": "stream",
     "text": [
      "this is a string\n"
     ]
    }
   ],
   "source": [
    "print('this is a string')"
   ]
  },
  {
   "cell_type": "markdown",
   "metadata": {},
   "source": [
    "A very useful command \"format\" allows you to easily mix in results you have calculated with your string. This shows 2 ways to call this command. You will the two resulting string are identical."
   ]
  },
  {
   "cell_type": "code",
   "execution_count": 4,
   "metadata": {},
   "outputs": [
    {
     "name": "stdout",
     "output_type": "stream",
     "text": [
      "The results of a multipled by b is 6\n",
      "The results of a multipled by b is 6\n"
     ]
    }
   ],
   "source": [
    "s1 = 'The results of a multipled by b is {result}'.format(result=a_times_b)\n",
    "s2 = f'The results of a multipled by b is {a_times_b}'\n",
    "print(s1)\n",
    "print(s2)"
   ]
  },
  {
   "cell_type": "markdown",
   "metadata": {},
   "source": [
    "### Conditional statements\n",
    "Conditional statements are the part of a programming language that allow you to different things based on a certain condition e.g. the value of a variable."
   ]
  },
  {
   "cell_type": "code",
   "execution_count": 5,
   "metadata": {},
   "outputs": [
    {
     "name": "stdout",
     "output_type": "stream",
     "text": [
      "The result of 6 is greater than the threshold of 5\n"
     ]
    }
   ],
   "source": [
    "if a_times_b > threshold:\n",
    "    print(f'The result of {a_times_b} is greater than the threshold of {threshold}')\n",
    "else:\n",
    "    print(f'The result of {a_times_b} is less than the threshold of {threshold}')\n"
   ]
  },
  {
   "cell_type": "markdown",
   "metadata": {},
   "source": [
    "### Repitition\n",
    "An important part of any part of a programming language is being able do the same action multiple times, usually do the same action to each in a collection of items. In python this is done with a for or while loop."
   ]
  },
  {
   "cell_type": "code",
   "execution_count": 6,
   "metadata": {},
   "outputs": [
    {
     "name": "stdout",
     "output_type": "stream",
     "text": [
      "Doing job on item 0\n",
      "Doing job on item 1\n",
      "Doing job on item 2\n",
      "Doing job on item 3\n",
      "Doing job on item 4\n"
     ]
    }
   ],
   "source": [
    "for index1 in range(5):\n",
    "    print(f'Doing job on item {index1}')"
   ]
  },
  {
   "cell_type": "code",
   "execution_count": 7,
   "metadata": {},
   "outputs": [
    {
     "name": "stdout",
     "output_type": "stream",
     "text": [
      "Doing job on item 0\n",
      "Doing job on item 1\n",
      "Doing job on item 2\n",
      "Doing job on item 3\n",
      "Doing job on item 4\n"
     ]
    }
   ],
   "source": [
    "index2 = 0\n",
    "while index2 < threshold:\n",
    "    print(f'Doing job on item {index2}')\n",
    "    index2 += 1"
   ]
  },
  {
   "cell_type": "markdown",
   "metadata": {},
   "source": [
    "### Reusing code - functions\n",
    "\n",
    "We often find we need to perform the same action many times but as part of different workflows so a loop is not suitable. To use code repeatedly without just cutting and pasting, we define a function as follows, then call the function. We will demomstrate this by defining a function to calculate the area of triangle using Heron's Formula:\n",
    "https://www.mathopenref.com/heronsformula.html"
   ]
  },
  {
   "cell_type": "code",
   "execution_count": 8,
   "metadata": {},
   "outputs": [],
   "source": [
    "def triangle_perimeter(a,b,c):\n",
    "    \"\"\"\n",
    "    This function calculates the perimeter of a triangle, given by the lengths of the 3 sides a,b,c.\n",
    "    \"\"\"\n",
    "    return a+b+c    "
   ]
  },
  {
   "cell_type": "code",
   "execution_count": 9,
   "metadata": {},
   "outputs": [],
   "source": [
    "def triangle_area(a,b,c):\n",
    "    \"\"\"\n",
    "    This function calculates the area of a triangle, given by the lengths of the 3 sides a,b,c.\n",
    "    \"\"\"\n",
    "    semiperimeter = 0.5 * triangle_perimeter(a,b,c)\n",
    "    area = (semiperimeter * (semiperimeter - a) * (semiperimeter - b) * (semiperimeter - c)) ** 0.5\n",
    "    return area\n",
    "    "
   ]
  },
  {
   "cell_type": "code",
   "execution_count": 10,
   "metadata": {},
   "outputs": [
    {
     "data": {
      "text/plain": [
       "12"
      ]
     },
     "execution_count": 10,
     "metadata": {},
     "output_type": "execute_result"
    }
   ],
   "source": [
    "triangle_perimeter(3,4,5)"
   ]
  },
  {
   "cell_type": "code",
   "execution_count": 11,
   "metadata": {},
   "outputs": [
    {
     "data": {
      "text/plain": [
       "6.0"
      ]
     },
     "execution_count": 11,
     "metadata": {},
     "output_type": "execute_result"
    }
   ],
   "source": [
    "triangle_area(3,4,5)"
   ]
  },
  {
   "cell_type": "markdown",
   "metadata": {},
   "source": [
    "In this notebook we have covered the basic syntax and elements of python that are needed for manipulating data. Over the next few notebooks we will build up the ability to perform common data tasks using these elements.\n",
    "\n",
    "Although it important to know and understand these, we will see later  though, we don't explicitly use these elements for real data science work. We work with large collection and objects that represent the data in a more intuitive way and also often are more efficicient for processing large real-world datasets.\n"
   ]
  },
  {
   "cell_type": "markdown",
   "metadata": {},
   "source": [
    "## Appendix - Running python\n",
    "\n",
    "There are several ways to run python which I will mention in the context of how they relate to Data Science work in python."
   ]
  },
  {
   "cell_type": "markdown",
   "metadata": {},
   "source": [
    "### Command line - interactive\n",
    "The most common way to run python is to start an interactive session from the command line.\n",
    "\n",
    "`python`\n",
    "\n",
    "alternatively, you can start an 9interactive session after first running some prepartory code:\n",
    "\n",
    "`python -i my_setup_code.py`"
   ]
  },
  {
   "cell_type": "markdown",
   "metadata": {},
   "source": [
    "### Command line - batch\n",
    "\n",
    "Another common one is to run some code as a command. This can be done in several ways.\n",
    "\n",
    "* A line of code `python -c \"print('hello world')\"`\n",
    "* run the contents of a file `python my_code.py --arg1 value1 --arg2 value 2 --flag1`\n",
    "* you can also add a shebang line to your file to run as an exacutable script without mentioning python\n",
    " * shebang `#!/user/bin/env python`\n",
    " * calling `./my_exec_script --arg1 value1 --arg2 value 2 --flag1`\n",
    "\n"
   ]
  },
  {
   "cell_type": "markdown",
   "metadata": {},
   "source": [
    "### Jupyter notebooks - a useful data science tool"
   ]
  },
  {
   "cell_type": "markdown",
   "metadata": {},
   "source": [
    "![Jupyter logo](https://upload.wikimedia.org/wikipedia/commons/thumb/3/38/Jupyter_logo.svg/518px-Jupyter_logo.svg.png)\n",
    "\n",
    "Jupyter notebooks are a way of presenting a document that combines text, pictures etc. (in markdown) with executable code and the output of that code.\n",
    "\n",
    "There is a execution kernel for each notebook which runs the code. Content is divided up into cells. Cells can be run in any order, changing the state of the kernel. Best practice is to keep execution order aligned with the order from top to bottom of the content in the notebook.\n",
    "\n",
    "Documentation\n",
    "\n",
    "https://jupyterlab.readthedocs.io/en/stable/\n",
    "\n",
    "Below are some exampe cells that demonstrate concepts."
   ]
  },
  {
   "cell_type": "code",
   "execution_count": 15,
   "metadata": {},
   "outputs": [],
   "source": [
    "# this is a code cell\n",
    "a = 3\n",
    "b = 5\n"
   ]
  },
  {
   "cell_type": "code",
   "execution_count": 16,
   "metadata": {},
   "outputs": [],
   "source": [
    "# if a variable is not assigned, the result will be stored as usual\n",
    "c = a *b"
   ]
  },
  {
   "cell_type": "code",
   "execution_count": 17,
   "metadata": {},
   "outputs": [
    {
     "data": {
      "text/plain": [
       "15"
      ]
     },
     "execution_count": 17,
     "metadata": {},
     "output_type": "execute_result"
    }
   ],
   "source": [
    "# if a variable is not assigned, the result will be displayed. This demonstrates how code and output are stored in the notebook\n",
    "a * b"
   ]
  },
  {
   "cell_type": "code",
   "execution_count": 18,
   "metadata": {},
   "outputs": [
    {
     "data": {
      "text/plain": [
       "15"
      ]
     },
     "execution_count": 18,
     "metadata": {},
     "output_type": "execute_result"
    }
   ],
   "source": [
    "c"
   ]
  },
  {
   "cell_type": "markdown",
   "metadata": {},
   "source": [
    "Jupyter notebooks are a very useful tool for Data Science, as they facilitate development of relevant code as well as communication of and about the data, code and results all in the same place. We will see some of the other advantages of Jupyter Notebooks for Data Science development and communication through the rest of these tutorials."
   ]
  }
 ],
 "metadata": {
  "kernelspec": {
   "display_name": "Python 3",
   "language": "python",
   "name": "python3"
  },
  "language_info": {
   "codemirror_mode": {
    "name": "ipython",
    "version": 3
   },
   "file_extension": ".py",
   "mimetype": "text/x-python",
   "name": "python",
   "nbconvert_exporter": "python",
   "pygments_lexer": "ipython3",
   "version": "3.8.3"
  }
 },
 "nbformat": 4,
 "nbformat_minor": 4
}
