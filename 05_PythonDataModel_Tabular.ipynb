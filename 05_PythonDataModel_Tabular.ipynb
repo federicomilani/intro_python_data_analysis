{
 "cells": [
  {
   "cell_type": "markdown",
   "metadata": {},
   "source": [
    "# A Data Model\n",
    "\n",
    "We now have all the cord building blocks for working with data in python. You could probably do most of what you needed to do just with what we have covered so far.\n",
    "* loading gridded and tabular data\n",
    "* performing operation on each items of data or a collection of data]\n",
    "* calculate statistics on the data\n",
    "* visualise the data or derived statistics\n",
    "\n",
    "There are some disadvatages to this:\n",
    "* you will have to implement many common operations yourself\n",
    "* there will be a lot of repetition in your code\n",
    "* keeping track of what the values represent will be difficult, leading to errors\n",
    "\n",
    "When working on a data science project (as in any project) we don't want to be thinking all the time about the low level details of data loading, manipulation visualisation. In the same way we don't care about what the actual machine instructions being executed by the hardware are or the eact memory address of our data, we don't want to think about low-level loops and conditionals. We want to think at higher a level about the operations on our data as they relate to the problem we are trying to solve. To achieve this, instead of working with the low-level operations as we have seen so far, we will start using a **data model**."
   ]
  },
  {
   "cell_type": "code",
   "execution_count": null,
   "metadata": {},
   "outputs": [],
   "source": []
  },
  {
   "cell_type": "markdown",
   "metadata": {},
   "source": [
    "## What are data models and why are they useful?\n",
    "\n",
    "So far we have been creating, viewing and manipulating raw data. It is not **self-describing**. To make our data processing easier we create a **data model**.\n",
    "\n",
    "*A data model is an abstract model that organizes elements of data and standardizes how they relate to one another and to the properties of real-world entities.* - Wikipedia\n",
    "\n",
    "Basically, a data model holds data in an object that is easier and more convenient to use than raw 1s and 0s. This can include a way to store metadata with the the data, displaying the data through interfaces that make it easier to understand and automatically perfoming functions for us that would otherwise require a lot of engineering."
   ]
  },
  {
   "cell_type": "markdown",
   "metadata": {},
   "source": [
    "lets start looking at our raw data. How do we turn this into a data model? We might start by adding some metadata"
   ]
  },
  {
   "cell_type": "code",
   "execution_count": null,
   "metadata": {},
   "outputs": [],
   "source": []
  },
  {
   "cell_type": "markdown",
   "metadata": {},
   "source": [
    "We might define some operations to be performed on the data."
   ]
  },
  {
   "cell_type": "code",
   "execution_count": null,
   "metadata": {},
   "outputs": [],
   "source": []
  },
  {
   "cell_type": "markdown",
   "metadata": {},
   "source": [
    "## Tabular data\n",
    "Tabular data is data that is arranged in a table, where each row is a data point and each column represents a different feature or measurement. For example each row could be a data for an employee and the columns could include features such as name, address, phone numer, salary, employee ID etc."
   ]
  },
  {
   "cell_type": "code",
   "execution_count": null,
   "metadata": {},
   "outputs": [],
   "source": []
  },
  {
   "cell_type": "markdown",
   "metadata": {},
   "source": [
    "### Real-world data - XBT project"
   ]
  },
  {
   "cell_type": "code",
   "execution_count": null,
   "metadata": {},
   "outputs": [],
   "source": []
  },
  {
   "cell_type": "code",
   "execution_count": null,
   "metadata": {},
   "outputs": [],
   "source": []
  },
  {
   "cell_type": "markdown",
   "metadata": {},
   "source": [
    "## Third party libraries - pandas"
   ]
  },
  {
   "cell_type": "code",
   "execution_count": null,
   "metadata": {},
   "outputs": [],
   "source": []
  },
  {
   "cell_type": "code",
   "execution_count": null,
   "metadata": {},
   "outputs": [],
   "source": []
  },
  {
   "cell_type": "markdown",
   "metadata": {},
   "source": [
    "### Data model in pandas"
   ]
  },
  {
   "cell_type": "code",
   "execution_count": 3,
   "metadata": {},
   "outputs": [],
   "source": [
    "#row and column metadata"
   ]
  },
  {
   "cell_type": "code",
   "execution_count": 6,
   "metadata": {},
   "outputs": [],
   "source": [
    "# selecting subsets by row or column"
   ]
  },
  {
   "cell_type": "code",
   "execution_count": null,
   "metadata": {},
   "outputs": [],
   "source": [
    "# merging data (a bit like a database join)"
   ]
  },
  {
   "cell_type": "markdown",
   "metadata": {},
   "source": [
    "### Common operations in pandas\n",
    "\n",
    "Compare operation in parts 1-4 with how it is done in Pandas"
   ]
  },
  {
   "cell_type": "code",
   "execution_count": null,
   "metadata": {},
   "outputs": [],
   "source": []
  },
  {
   "cell_type": "code",
   "execution_count": 4,
   "metadata": {},
   "outputs": [],
   "source": [
    "# summing, mean etc."
   ]
  },
  {
   "cell_type": "code",
   "execution_count": 5,
   "metadata": {},
   "outputs": [],
   "source": [
    "# random sampling"
   ]
  },
  {
   "cell_type": "code",
   "execution_count": null,
   "metadata": {},
   "outputs": [],
   "source": [
    "# row operations"
   ]
  },
  {
   "cell_type": "code",
   "execution_count": 1,
   "metadata": {},
   "outputs": [],
   "source": [
    "# filtering  (conditional)"
   ]
  },
  {
   "cell_type": "code",
   "execution_count": null,
   "metadata": {},
   "outputs": [],
   "source": [
    "# apply command"
   ]
  },
  {
   "cell_type": "code",
   "execution_count": 2,
   "metadata": {},
   "outputs": [],
   "source": [
    "# plotting using pandas"
   ]
  },
  {
   "cell_type": "markdown",
   "metadata": {},
   "source": [
    "## advantages of pandas\n",
    "more efficient\n",
    "scaling using dask\n",
    "compact code\n",
    "a lot of built in functionality and interoperability"
   ]
  },
  {
   "cell_type": "code",
   "execution_count": null,
   "metadata": {},
   "outputs": [],
   "source": []
  },
  {
   "cell_type": "markdown",
   "metadata": {},
   "source": [
    "### comparison with databases\n",
    "\n",
    "\n",
    "SQL vs pandas\n",
    "* https://towardsdatascience.com/sql-vs-pandas-which-one-to-choose-in-2020-a98f236829ef\n",
    "* https://towardsdatascience.com/sql-vs-pandas-which-one-to-choose-in-2020-part-2-9268d4a69984\n",
    "\n",
    "https://datascience.stackexchange.com/questions/34357/why-do-people-prefer-pandas-to-sql"
   ]
  },
  {
   "cell_type": "code",
   "execution_count": null,
   "metadata": {},
   "outputs": [],
   "source": []
  }
 ],
 "metadata": {
  "kernelspec": {
   "display_name": "Python 3",
   "language": "python",
   "name": "python3"
  },
  "language_info": {
   "codemirror_mode": {
    "name": "ipython",
    "version": 3
   },
   "file_extension": ".py",
   "mimetype": "text/x-python",
   "name": "python",
   "nbconvert_exporter": "python",
   "pygments_lexer": "ipython3",
   "version": "3.8.6"
  }
 },
 "nbformat": 4,
 "nbformat_minor": 4
}
