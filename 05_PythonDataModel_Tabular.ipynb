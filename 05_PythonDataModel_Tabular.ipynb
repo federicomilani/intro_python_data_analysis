{
 "cells": [
  {
   "cell_type": "markdown",
   "metadata": {},
   "source": [
    "# A Data Model\n",
    "\n",
    "We now have all the cord building blocks for working with data in python. You could probably do most of what you needed to do just with what we have covered so far.\n",
    "* loading gridded and tabular data\n",
    "* performing operation on each items of data or a collection of data]\n",
    "* calculate statistics on the data\n",
    "* visualise the data or derived statistics\n",
    "\n",
    "There are some disadvatages to this:\n",
    "* you will have to implement many common operations yourself\n",
    "* there will be a lot of repetition in your code\n",
    "* keeping track of what the values represent will be difficult, leading to errors\n",
    "\n",
    "When working on a data science project (as in any project) we don't want to be thinking all the time about the low level details of data loading, manipulation visualisation. In the same way we don't care about what the actual machine instructions being executed by the hardware are or the eact memory address of our data, we don't want to think about low-level loops and conditionals. We want to think at higher a level about the operations on our data as they relate to the problem we are trying to solve. To achieve this, instead of working with the low-level operations as we have seen so far, we will start using a **data model**."
   ]
  },
  {
   "cell_type": "code",
   "execution_count": 1,
   "metadata": {},
   "outputs": [],
   "source": [
    "import pathlib\n",
    "import csv"
   ]
  },
  {
   "cell_type": "code",
   "execution_count": 2,
   "metadata": {},
   "outputs": [],
   "source": [
    "import pandas"
   ]
  },
  {
   "cell_type": "markdown",
   "metadata": {},
   "source": [
    "## What are data models and why are they useful?\n",
    "\n",
    "So far we have been creating, viewing and manipulating raw data. It is not **self-describing**. To make our data processing easier we create a **data model**.\n",
    "\n",
    "*A data model is an abstract model that organizes elements of data and standardizes how they relate to one another and to the properties of real-world entities.* - Wikipedia\n",
    "\n",
    "Basically, a data model holds data in an object that is easier and more convenient to use than raw 1s and 0s. This can include a way to store metadata with the the data, displaying the data through interfaces that make it easier to understand and automatically perfoming functions for us that would otherwise require a lot of engineering."
   ]
  },
  {
   "cell_type": "markdown",
   "metadata": {},
   "source": [
    "## Tabular data\n",
    "Tabular data is data that is arranged in a table, where each row is a data point and each column represents a different feature or measurement. For example each row could be a data for an employee and the columns could include features such as name, address, phone numer, salary, employee ID etc."
   ]
  },
  {
   "cell_type": "markdown",
   "metadata": {},
   "source": [
    "lets start looking at our raw data. How do we turn this into a data model? We might start by adding some metadata"
   ]
  },
  {
   "cell_type": "code",
   "execution_count": 3,
   "metadata": {},
   "outputs": [
    {
     "data": {
      "text/plain": [
       "[['time', 'temperature', 'wind', 'rain'],\n",
       " ['1400', '21', '2', '0'],\n",
       " ['1500', '24', '5', '0'],\n",
       " ['1600', '20', '15', '1'],\n",
       " ['1700', '22', '5', '15'],\n",
       " ['1800', '21', '1', '0']]"
      ]
     },
     "execution_count": 3,
     "metadata": {},
     "output_type": "execute_result"
    }
   ],
   "source": [
    "with open('weather.csv') as td_file1:\n",
    "    td_list = [tdr1 for tdr1 in csv.reader(td_file1)]\n",
    "td_list      "
   ]
  },
  {
   "cell_type": "code",
   "execution_count": 4,
   "metadata": {},
   "outputs": [
    {
     "data": {
      "text/plain": [
       "['1400', '21', '2', '0']"
      ]
     },
     "execution_count": 4,
     "metadata": {},
     "output_type": "execute_result"
    }
   ],
   "source": [
    "td_list[1]"
   ]
  },
  {
   "cell_type": "code",
   "execution_count": 5,
   "metadata": {},
   "outputs": [
    {
     "data": {
      "text/plain": [
       "{'1400': {'time': '1400', 'temperature': '21', 'wind': '2', 'rain': '0'},\n",
       " '1500': {'time': '1500', 'temperature': '24', 'wind': '5', 'rain': '0'},\n",
       " '1600': {'time': '1600', 'temperature': '20', 'wind': '15', 'rain': '1'},\n",
       " '1700': {'time': '1700', 'temperature': '22', 'wind': '5', 'rain': '15'},\n",
       " '1800': {'time': '1800', 'temperature': '21', 'wind': '1', 'rain': '0'}}"
      ]
     },
     "execution_count": 5,
     "metadata": {},
     "output_type": "execute_result"
    }
   ],
   "source": [
    "with open('weather.csv') as td_file1:\n",
    "    td_reader1 = csv.DictReader(td_file1)\n",
    "    td_rows = {tdr1['time']: tdr1 for tdr1 in td_reader1}\n",
    "td_rows        "
   ]
  },
  {
   "cell_type": "code",
   "execution_count": 6,
   "metadata": {},
   "outputs": [
    {
     "data": {
      "text/plain": [
       "'20'"
      ]
     },
     "execution_count": 6,
     "metadata": {},
     "output_type": "execute_result"
    }
   ],
   "source": [
    "td_rows['1600']['temperature']"
   ]
  },
  {
   "cell_type": "markdown",
   "metadata": {},
   "source": [
    "We might define some operations to be performed on the data."
   ]
  },
  {
   "cell_type": "code",
   "execution_count": 7,
   "metadata": {},
   "outputs": [
    {
     "name": "stdout",
     "output_type": "stream",
     "text": [
      "total rain between 1400 and 1800 is 16.0mm.\n"
     ]
    }
   ],
   "source": [
    "print(f'total rain between {list(td_rows.keys())[0]} and {list(td_rows.keys())[-1]} is {sum([float(obs1[\"rain\"]) for time1, obs1 in td_rows.items()])}mm.')"
   ]
  },
  {
   "cell_type": "markdown",
   "metadata": {},
   "source": [
    "## Third party libraries - pandas\n",
    "\n",
    "To enable us to work with Data Models easily, we can use a higher-level libary where the data model is an integral part of the code, rather than something we awkwardly implement ourselves. The standard library for working with tabular data in python is **Pandas**\n",
    "\n",
    "https://pandas.pydata.org/docs/\n"
   ]
  },
  {
   "cell_type": "markdown",
   "metadata": {},
   "source": [
    "### Data model in pandas\n",
    "The standard object for working with tabular data in python is the DataFrame.\n",
    "\n",
    "https://pandas.pydata.org/pandas-docs/stable/reference/api/pandas.DataFrame.html\n",
    "\n",
    "This is provides an intuitive way to access and manipulate data based on a data model."
   ]
  },
  {
   "cell_type": "code",
   "execution_count": 8,
   "metadata": {},
   "outputs": [],
   "source": [
    "weather_df = pandas.read_csv('weather.csv')"
   ]
  },
  {
   "cell_type": "code",
   "execution_count": 9,
   "metadata": {},
   "outputs": [
    {
     "data": {
      "text/html": [
       "<div>\n",
       "<style scoped>\n",
       "    .dataframe tbody tr th:only-of-type {\n",
       "        vertical-align: middle;\n",
       "    }\n",
       "\n",
       "    .dataframe tbody tr th {\n",
       "        vertical-align: top;\n",
       "    }\n",
       "\n",
       "    .dataframe thead th {\n",
       "        text-align: right;\n",
       "    }\n",
       "</style>\n",
       "<table border=\"1\" class=\"dataframe\">\n",
       "  <thead>\n",
       "    <tr style=\"text-align: right;\">\n",
       "      <th></th>\n",
       "      <th>time</th>\n",
       "      <th>temperature</th>\n",
       "      <th>wind</th>\n",
       "      <th>rain</th>\n",
       "    </tr>\n",
       "  </thead>\n",
       "  <tbody>\n",
       "    <tr>\n",
       "      <th>0</th>\n",
       "      <td>1400</td>\n",
       "      <td>21</td>\n",
       "      <td>2</td>\n",
       "      <td>0</td>\n",
       "    </tr>\n",
       "    <tr>\n",
       "      <th>1</th>\n",
       "      <td>1500</td>\n",
       "      <td>24</td>\n",
       "      <td>5</td>\n",
       "      <td>0</td>\n",
       "    </tr>\n",
       "    <tr>\n",
       "      <th>2</th>\n",
       "      <td>1600</td>\n",
       "      <td>20</td>\n",
       "      <td>15</td>\n",
       "      <td>1</td>\n",
       "    </tr>\n",
       "    <tr>\n",
       "      <th>3</th>\n",
       "      <td>1700</td>\n",
       "      <td>22</td>\n",
       "      <td>5</td>\n",
       "      <td>15</td>\n",
       "    </tr>\n",
       "    <tr>\n",
       "      <th>4</th>\n",
       "      <td>1800</td>\n",
       "      <td>21</td>\n",
       "      <td>1</td>\n",
       "      <td>0</td>\n",
       "    </tr>\n",
       "  </tbody>\n",
       "</table>\n",
       "</div>"
      ],
      "text/plain": [
       "   time  temperature  wind  rain\n",
       "0  1400           21     2     0\n",
       "1  1500           24     5     0\n",
       "2  1600           20    15     1\n",
       "3  1700           22     5    15\n",
       "4  1800           21     1     0"
      ]
     },
     "execution_count": 9,
     "metadata": {},
     "output_type": "execute_result"
    }
   ],
   "source": [
    "weather_df"
   ]
  },
  {
   "cell_type": "code",
   "execution_count": 10,
   "metadata": {},
   "outputs": [
    {
     "data": {
      "text/plain": [
       "0    21\n",
       "1    24\n",
       "2    20\n",
       "3    22\n",
       "4    21\n",
       "Name: temperature, dtype: int64"
      ]
     },
     "execution_count": 10,
     "metadata": {},
     "output_type": "execute_result"
    }
   ],
   "source": [
    "weather_df['temperature']"
   ]
  },
  {
   "cell_type": "code",
   "execution_count": 11,
   "metadata": {},
   "outputs": [],
   "source": [
    "#row and column metadata"
   ]
  },
  {
   "cell_type": "code",
   "execution_count": 12,
   "metadata": {},
   "outputs": [
    {
     "data": {
      "text/html": [
       "<div>\n",
       "<style scoped>\n",
       "    .dataframe tbody tr th:only-of-type {\n",
       "        vertical-align: middle;\n",
       "    }\n",
       "\n",
       "    .dataframe tbody tr th {\n",
       "        vertical-align: top;\n",
       "    }\n",
       "\n",
       "    .dataframe thead th {\n",
       "        text-align: right;\n",
       "    }\n",
       "</style>\n",
       "<table border=\"1\" class=\"dataframe\">\n",
       "  <thead>\n",
       "    <tr style=\"text-align: right;\">\n",
       "      <th></th>\n",
       "      <th>time</th>\n",
       "      <th>temperature</th>\n",
       "      <th>wind</th>\n",
       "      <th>rain</th>\n",
       "    </tr>\n",
       "  </thead>\n",
       "  <tbody>\n",
       "    <tr>\n",
       "      <th>2</th>\n",
       "      <td>1600</td>\n",
       "      <td>20</td>\n",
       "      <td>15</td>\n",
       "      <td>1</td>\n",
       "    </tr>\n",
       "    <tr>\n",
       "      <th>3</th>\n",
       "      <td>1700</td>\n",
       "      <td>22</td>\n",
       "      <td>5</td>\n",
       "      <td>15</td>\n",
       "    </tr>\n",
       "    <tr>\n",
       "      <th>4</th>\n",
       "      <td>1800</td>\n",
       "      <td>21</td>\n",
       "      <td>1</td>\n",
       "      <td>0</td>\n",
       "    </tr>\n",
       "  </tbody>\n",
       "</table>\n",
       "</div>"
      ],
      "text/plain": [
       "   time  temperature  wind  rain\n",
       "2  1600           20    15     1\n",
       "3  1700           22     5    15\n",
       "4  1800           21     1     0"
      ]
     },
     "execution_count": 12,
     "metadata": {},
     "output_type": "execute_result"
    }
   ],
   "source": [
    "weather_df[weather_df['time'] >= 1600]"
   ]
  },
  {
   "cell_type": "code",
   "execution_count": 13,
   "metadata": {},
   "outputs": [],
   "source": [
    "weather_other_df = pandas.read_csv('weather2.csv')\n"
   ]
  },
  {
   "cell_type": "markdown",
   "metadata": {},
   "source": [
    "You can combine datasets based on a common variable (this is a bit like a *JOIN* operation in a SQL database)"
   ]
  },
  {
   "cell_type": "code",
   "execution_count": 14,
   "metadata": {},
   "outputs": [
    {
     "data": {
      "text/html": [
       "<div>\n",
       "<style scoped>\n",
       "    .dataframe tbody tr th:only-of-type {\n",
       "        vertical-align: middle;\n",
       "    }\n",
       "\n",
       "    .dataframe tbody tr th {\n",
       "        vertical-align: top;\n",
       "    }\n",
       "\n",
       "    .dataframe thead th {\n",
       "        text-align: right;\n",
       "    }\n",
       "</style>\n",
       "<table border=\"1\" class=\"dataframe\">\n",
       "  <thead>\n",
       "    <tr style=\"text-align: right;\">\n",
       "      <th></th>\n",
       "      <th>time</th>\n",
       "      <th>temperature</th>\n",
       "      <th>wind</th>\n",
       "      <th>rain</th>\n",
       "      <th>dewpoint</th>\n",
       "      <th>pressure</th>\n",
       "    </tr>\n",
       "  </thead>\n",
       "  <tbody>\n",
       "    <tr>\n",
       "      <th>0</th>\n",
       "      <td>1400</td>\n",
       "      <td>21</td>\n",
       "      <td>2</td>\n",
       "      <td>0</td>\n",
       "      <td>17</td>\n",
       "      <td>1007</td>\n",
       "    </tr>\n",
       "    <tr>\n",
       "      <th>1</th>\n",
       "      <td>1500</td>\n",
       "      <td>24</td>\n",
       "      <td>5</td>\n",
       "      <td>0</td>\n",
       "      <td>19</td>\n",
       "      <td>1005</td>\n",
       "    </tr>\n",
       "    <tr>\n",
       "      <th>2</th>\n",
       "      <td>1600</td>\n",
       "      <td>20</td>\n",
       "      <td>15</td>\n",
       "      <td>1</td>\n",
       "      <td>20</td>\n",
       "      <td>1003</td>\n",
       "    </tr>\n",
       "    <tr>\n",
       "      <th>3</th>\n",
       "      <td>1700</td>\n",
       "      <td>22</td>\n",
       "      <td>5</td>\n",
       "      <td>15</td>\n",
       "      <td>18</td>\n",
       "      <td>1006</td>\n",
       "    </tr>\n",
       "    <tr>\n",
       "      <th>4</th>\n",
       "      <td>1800</td>\n",
       "      <td>21</td>\n",
       "      <td>1</td>\n",
       "      <td>0</td>\n",
       "      <td>17</td>\n",
       "      <td>1008</td>\n",
       "    </tr>\n",
       "  </tbody>\n",
       "</table>\n",
       "</div>"
      ],
      "text/plain": [
       "   time  temperature  wind  rain  dewpoint  pressure\n",
       "0  1400           21     2     0        17      1007\n",
       "1  1500           24     5     0        19      1005\n",
       "2  1600           20    15     1        20      1003\n",
       "3  1700           22     5    15        18      1006\n",
       "4  1800           21     1     0        17      1008"
      ]
     },
     "execution_count": 14,
     "metadata": {},
     "output_type": "execute_result"
    }
   ],
   "source": [
    "weather_merged = pandas.merge(weather_df, weather_other_df, on='time')\n",
    "weather_merged"
   ]
  },
  {
   "cell_type": "markdown",
   "metadata": {},
   "source": [
    "### Real-world data - XBT project\n",
    "\n",
    "The XBT project is a Climate Science project to use machine learning to fill in missing metadata. More info on the project:\n",
    "\n",
    "* Description: https://medium.com/informatics-lab/xbt-project-summary-using-machine-learning-to-infer-missing-metadata-in-climate-science-datasets-3ae55fba320a\n",
    "* Code: https://github.com/MetOffice/XBTs_classification\n",
    "\n",
    "The data is freely avaiable from the WOD database. We are using some preprocessed data as an example of tabular data handling by Pandas."
   ]
  },
  {
   "cell_type": "code",
   "execution_count": 15,
   "metadata": {},
   "outputs": [],
   "source": [
    "xbt_dir = pathlib.Path('/data/xbt-data/csv_with_imeta')"
   ]
  },
  {
   "cell_type": "code",
   "execution_count": 16,
   "metadata": {},
   "outputs": [],
   "source": [
    "xbt_paths = list(xbt_dir.iterdir())"
   ]
  },
  {
   "cell_type": "code",
   "execution_count": 17,
   "metadata": {},
   "outputs": [],
   "source": [
    "#pandas.read_csv('s3://xbt-data/csv_with_imeta/xbt_1989.csv')"
   ]
  },
  {
   "cell_type": "code",
   "execution_count": 18,
   "metadata": {},
   "outputs": [],
   "source": [
    "xbt_df = pandas.read_csv(xbt_paths[0])"
   ]
  },
  {
   "cell_type": "code",
   "execution_count": 19,
   "metadata": {},
   "outputs": [
    {
     "data": {
      "text/html": [
       "<div>\n",
       "<style scoped>\n",
       "    .dataframe tbody tr th:only-of-type {\n",
       "        vertical-align: middle;\n",
       "    }\n",
       "\n",
       "    .dataframe tbody tr th {\n",
       "        vertical-align: top;\n",
       "    }\n",
       "\n",
       "    .dataframe thead th {\n",
       "        text-align: right;\n",
       "    }\n",
       "</style>\n",
       "<table border=\"1\" class=\"dataframe\">\n",
       "  <thead>\n",
       "    <tr style=\"text-align: right;\">\n",
       "      <th></th>\n",
       "      <th>Unnamed: 0</th>\n",
       "      <th>Unnamed: 0.1</th>\n",
       "      <th>country</th>\n",
       "      <th>lat</th>\n",
       "      <th>lon</th>\n",
       "      <th>date</th>\n",
       "      <th>year</th>\n",
       "      <th>month</th>\n",
       "      <th>day</th>\n",
       "      <th>institute</th>\n",
       "      <th>...</th>\n",
       "      <th>instrument</th>\n",
       "      <th>model</th>\n",
       "      <th>manufacturer</th>\n",
       "      <th>temperature_profile</th>\n",
       "      <th>temperature_quality_flag</th>\n",
       "      <th>depth_profile</th>\n",
       "      <th>max_depth</th>\n",
       "      <th>depth_quality_flag</th>\n",
       "      <th>imeta_applied</th>\n",
       "      <th>id</th>\n",
       "    </tr>\n",
       "  </thead>\n",
       "  <tbody>\n",
       "    <tr>\n",
       "      <th>0</th>\n",
       "      <td>0</td>\n",
       "      <td>0</td>\n",
       "      <td>UNITED STATES</td>\n",
       "      <td>15.033300</td>\n",
       "      <td>41.883301</td>\n",
       "      <td>19890101</td>\n",
       "      <td>1989</td>\n",
       "      <td>1</td>\n",
       "      <td>1</td>\n",
       "      <td>0</td>\n",
       "      <td>...</td>\n",
       "      <td>XBT: T4 (SIPPICAN)</td>\n",
       "      <td>T4</td>\n",
       "      <td>SIPPICAN</td>\n",
       "      <td>[25.21518325805664, 25.21518325805664, 23.7176...</td>\n",
       "      <td>[0 0 0 0 0 0 0 0 0 0]</td>\n",
       "      <td>[-1.0783271789550781, 60.332862854003906, 66.4...</td>\n",
       "      <td>261.971497</td>\n",
       "      <td>[0 0 0 0 0 0 0 0 0 0]</td>\n",
       "      <td>1</td>\n",
       "      <td>3847256</td>\n",
       "    </tr>\n",
       "    <tr>\n",
       "      <th>1</th>\n",
       "      <td>1</td>\n",
       "      <td>1</td>\n",
       "      <td>GREAT BRITAIN</td>\n",
       "      <td>-7.533333</td>\n",
       "      <td>77.916664</td>\n",
       "      <td>19890101</td>\n",
       "      <td>1989</td>\n",
       "      <td>1</td>\n",
       "      <td>1</td>\n",
       "      <td>COMMONWEALTH SCIENTIFIC AND INDUSTRIAL RESEARC...</td>\n",
       "      <td>...</td>\n",
       "      <td>XBT: T4 (SIPPICAN)</td>\n",
       "      <td>T4</td>\n",
       "      <td>SIPPICAN</td>\n",
       "      <td>[29.01881980895996, 29.01881980895996, 29.0188...</td>\n",
       "      <td>[0 0 0 0 0 0 0 0 0 0 0 0 0 0 0 0 0 0 0 0 0 0 0...</td>\n",
       "      <td>[-1.1384811401367188, 0.9119291305541992, 2.96...</td>\n",
       "      <td>468.027679</td>\n",
       "      <td>[0 0 0 0 0 0 0 0 0 0 0 0 0 0 0 0 0 0 0 0 0 0 0...</td>\n",
       "      <td>1</td>\n",
       "      <td>3133113</td>\n",
       "    </tr>\n",
       "    <tr>\n",
       "      <th>2</th>\n",
       "      <td>2</td>\n",
       "      <td>2</td>\n",
       "      <td>CHINA</td>\n",
       "      <td>46.230000</td>\n",
       "      <td>-48.218334</td>\n",
       "      <td>19890101</td>\n",
       "      <td>1989</td>\n",
       "      <td>1</td>\n",
       "      <td>1</td>\n",
       "      <td>WOODS HOLE OCEANOGRAPHIC INSTITUTE (WHOI)</td>\n",
       "      <td>...</td>\n",
       "      <td>XBT: T4 (SIPPICAN)</td>\n",
       "      <td>T4</td>\n",
       "      <td>SIPPICAN</td>\n",
       "      <td>[1.0219964981079102, 0.9321467280387878, 1.161...</td>\n",
       "      <td>[0 0 0 0 0 0 0 0 0 0 0 0 0 0 0 0]</td>\n",
       "      <td>[-1.4234771728515625, 3.7395548820495605, 35.7...</td>\n",
       "      <td>103.817154</td>\n",
       "      <td>[0 0 0 0 0 0 0 0 0 0 0 0 0 0 0 0]</td>\n",
       "      <td>0</td>\n",
       "      <td>2923944</td>\n",
       "    </tr>\n",
       "    <tr>\n",
       "      <th>3</th>\n",
       "      <td>3</td>\n",
       "      <td>3</td>\n",
       "      <td>DENMARK</td>\n",
       "      <td>44.233334</td>\n",
       "      <td>164.083328</td>\n",
       "      <td>19890101</td>\n",
       "      <td>1989</td>\n",
       "      <td>1</td>\n",
       "      <td>1</td>\n",
       "      <td>SCRIPPS INSTITUTION OF OCEANOGRAPHY; LA JOLLA; CA</td>\n",
       "      <td>...</td>\n",
       "      <td>XBT: T4 (SIPPICAN)</td>\n",
       "      <td>T4</td>\n",
       "      <td>SIPPICAN</td>\n",
       "      <td>[4.9054999351501465, 5.175048828125, 5.1450991...</td>\n",
       "      <td>[0 0 0 0 0 0 0 0 0 0 0 0 0 0 0 0 0]</td>\n",
       "      <td>[-1.5554924011230469, 86.43159484863281, 97.80...</td>\n",
       "      <td>469.196045</td>\n",
       "      <td>[0 0 0 0 0 0 0 0 0 0 0 0 0 0 0 0 0]</td>\n",
       "      <td>0</td>\n",
       "      <td>2923943</td>\n",
       "    </tr>\n",
       "    <tr>\n",
       "      <th>4</th>\n",
       "      <td>4</td>\n",
       "      <td>4</td>\n",
       "      <td>CYPRUS</td>\n",
       "      <td>20.010000</td>\n",
       "      <td>-161.838333</td>\n",
       "      <td>19890101</td>\n",
       "      <td>1989</td>\n",
       "      <td>1</td>\n",
       "      <td>1</td>\n",
       "      <td>SCRIPPS INSTITUTION OF OCEANOGRAPHY; LA JOLLA; CA</td>\n",
       "      <td>...</td>\n",
       "      <td>XBT: T4 (SIPPICAN)</td>\n",
       "      <td>T4</td>\n",
       "      <td>SIPPICAN</td>\n",
       "      <td>[25.72433090209961, 25.72433090209961, 25.7243...</td>\n",
       "      <td>[0 0 0 0 0 0 0 0 0 0 0 0 0 0 0 0 0 0 0 0]</td>\n",
       "      <td>[-1.1105690002441406, 2.9868502616882324, 84.9...</td>\n",
       "      <td>467.881012</td>\n",
       "      <td>[0 0 0 0 0 0 0 0 0 0 0 0 0 0 0 0 0 0 0 0]</td>\n",
       "      <td>1</td>\n",
       "      <td>2923945</td>\n",
       "    </tr>\n",
       "    <tr>\n",
       "      <th>...</th>\n",
       "      <td>...</td>\n",
       "      <td>...</td>\n",
       "      <td>...</td>\n",
       "      <td>...</td>\n",
       "      <td>...</td>\n",
       "      <td>...</td>\n",
       "      <td>...</td>\n",
       "      <td>...</td>\n",
       "      <td>...</td>\n",
       "      <td>...</td>\n",
       "      <td>...</td>\n",
       "      <td>...</td>\n",
       "      <td>...</td>\n",
       "      <td>...</td>\n",
       "      <td>...</td>\n",
       "      <td>...</td>\n",
       "      <td>...</td>\n",
       "      <td>...</td>\n",
       "      <td>...</td>\n",
       "      <td>...</td>\n",
       "      <td>...</td>\n",
       "    </tr>\n",
       "    <tr>\n",
       "      <th>45250</th>\n",
       "      <td>45250</td>\n",
       "      <td>45250</td>\n",
       "      <td>UNITED STATES</td>\n",
       "      <td>18.578333</td>\n",
       "      <td>170.021667</td>\n",
       "      <td>19891231</td>\n",
       "      <td>1989</td>\n",
       "      <td>12</td>\n",
       "      <td>31</td>\n",
       "      <td>SCRIPPS INSTITUTION OF OCEANOGRAPHY; LA JOLLA; CA</td>\n",
       "      <td>...</td>\n",
       "      <td>XBT: T4 (SIPPICAN)</td>\n",
       "      <td>T4</td>\n",
       "      <td>SIPPICAN</td>\n",
       "      <td>[26.96859359741211, 26.96859359741211, 26.7489...</td>\n",
       "      <td>[0 0 0 0 0 0 0 0 0 0 0 0 0 0 0 0 0 0 0]</td>\n",
       "      <td>[-2.1876754760742188, -1.1344484090805054, 92....</td>\n",
       "      <td>476.612762</td>\n",
       "      <td>[0 0 0 0 0 0 0 0 0 0 0 0 0 0 0 0 0 0 0]</td>\n",
       "      <td>0</td>\n",
       "      <td>2943715</td>\n",
       "    </tr>\n",
       "    <tr>\n",
       "      <th>45251</th>\n",
       "      <td>45251</td>\n",
       "      <td>45251</td>\n",
       "      <td>PANAMA</td>\n",
       "      <td>33.634998</td>\n",
       "      <td>-125.723335</td>\n",
       "      <td>19891231</td>\n",
       "      <td>1989</td>\n",
       "      <td>12</td>\n",
       "      <td>31</td>\n",
       "      <td>SCRIPPS INSTITUTION OF OCEANOGRAPHY; LA JOLLA; CA</td>\n",
       "      <td>...</td>\n",
       "      <td>XBT: T4 (SIPPICAN)</td>\n",
       "      <td>T4</td>\n",
       "      <td>SIPPICAN</td>\n",
       "      <td>[17.105093002319336, 17.105093002319336, 16.56...</td>\n",
       "      <td>[0 0 0 0 0 0 0 0 0 0 0]</td>\n",
       "      <td>[-1.8463249206542969, -0.8021968603134155, 61....</td>\n",
       "      <td>473.795654</td>\n",
       "      <td>[0 0 0 0 0 0 0 0 0 0 0]</td>\n",
       "      <td>0</td>\n",
       "      <td>2943716</td>\n",
       "    </tr>\n",
       "    <tr>\n",
       "      <th>45252</th>\n",
       "      <td>45252</td>\n",
       "      <td>45252</td>\n",
       "      <td>GERMANY</td>\n",
       "      <td>21.850000</td>\n",
       "      <td>-151.366669</td>\n",
       "      <td>19891231</td>\n",
       "      <td>1989</td>\n",
       "      <td>12</td>\n",
       "      <td>31</td>\n",
       "      <td>SCRIPPS INSTITUTION OF OCEANOGRAPHY; LA JOLLA; CA</td>\n",
       "      <td>...</td>\n",
       "      <td>XBT: T4 (SIPPICAN)</td>\n",
       "      <td>T4</td>\n",
       "      <td>SIPPICAN</td>\n",
       "      <td>[24.54265022277832, 24.362951278686523, 23.983...</td>\n",
       "      <td>[0 0 0 0 0 0 0 0 0 0 0 0 0 0 0 0 0 0 0 0 0]</td>\n",
       "      <td>[-2.105632781982422, 62.94382858276367, 73.415...</td>\n",
       "      <td>464.920776</td>\n",
       "      <td>[0 0 0 0 0 0 0 0 0 0 0 0 0 0 0 0 0 0 0 0 0]</td>\n",
       "      <td>0</td>\n",
       "      <td>2943717</td>\n",
       "    </tr>\n",
       "    <tr>\n",
       "      <th>45253</th>\n",
       "      <td>45253</td>\n",
       "      <td>45253</td>\n",
       "      <td>UNITED STATES</td>\n",
       "      <td>37.433300</td>\n",
       "      <td>-21.083300</td>\n",
       "      <td>19891231</td>\n",
       "      <td>1989</td>\n",
       "      <td>12</td>\n",
       "      <td>31</td>\n",
       "      <td>0</td>\n",
       "      <td>...</td>\n",
       "      <td>XBT: T4 (SIPPICAN)</td>\n",
       "      <td>T4</td>\n",
       "      <td>SIPPICAN</td>\n",
       "      <td>[15.731046676635742, 15.731046676635742, 14.45...</td>\n",
       "      <td>[0 0 0 0 0 0 0 0 0]</td>\n",
       "      <td>[-0.8218307495117188, 116.18955993652344, 141....</td>\n",
       "      <td>458.175262</td>\n",
       "      <td>[0 0 0 0 0 0 0 0 0]</td>\n",
       "      <td>1</td>\n",
       "      <td>3862589</td>\n",
       "    </tr>\n",
       "    <tr>\n",
       "      <th>45254</th>\n",
       "      <td>45254</td>\n",
       "      <td>45254</td>\n",
       "      <td>UNITED STATES</td>\n",
       "      <td>4.400000</td>\n",
       "      <td>89.816704</td>\n",
       "      <td>19891231</td>\n",
       "      <td>1989</td>\n",
       "      <td>12</td>\n",
       "      <td>31</td>\n",
       "      <td>0</td>\n",
       "      <td>...</td>\n",
       "      <td>XBT: T4 (SIPPICAN)</td>\n",
       "      <td>T4</td>\n",
       "      <td>SIPPICAN</td>\n",
       "      <td>[28.539621353149414, 28.539621353149414, 27.15...</td>\n",
       "      <td>[0 0 0 0 0 0 0 0 0]</td>\n",
       "      <td>[-1.1294326782226562, 55.234642028808594, 67.5...</td>\n",
       "      <td>111.590996</td>\n",
       "      <td>[0 0 0 0 0 0 0 0 0]</td>\n",
       "      <td>1</td>\n",
       "      <td>3862590</td>\n",
       "    </tr>\n",
       "  </tbody>\n",
       "</table>\n",
       "<p>45255 rows × 22 columns</p>\n",
       "</div>"
      ],
      "text/plain": [
       "       Unnamed: 0  Unnamed: 0.1        country        lat         lon  \\\n",
       "0               0             0  UNITED STATES  15.033300   41.883301   \n",
       "1               1             1  GREAT BRITAIN  -7.533333   77.916664   \n",
       "2               2             2          CHINA  46.230000  -48.218334   \n",
       "3               3             3        DENMARK  44.233334  164.083328   \n",
       "4               4             4         CYPRUS  20.010000 -161.838333   \n",
       "...           ...           ...            ...        ...         ...   \n",
       "45250       45250         45250  UNITED STATES  18.578333  170.021667   \n",
       "45251       45251         45251         PANAMA  33.634998 -125.723335   \n",
       "45252       45252         45252        GERMANY  21.850000 -151.366669   \n",
       "45253       45253         45253  UNITED STATES  37.433300  -21.083300   \n",
       "45254       45254         45254  UNITED STATES   4.400000   89.816704   \n",
       "\n",
       "           date  year  month  day  \\\n",
       "0      19890101  1989      1    1   \n",
       "1      19890101  1989      1    1   \n",
       "2      19890101  1989      1    1   \n",
       "3      19890101  1989      1    1   \n",
       "4      19890101  1989      1    1   \n",
       "...         ...   ...    ...  ...   \n",
       "45250  19891231  1989     12   31   \n",
       "45251  19891231  1989     12   31   \n",
       "45252  19891231  1989     12   31   \n",
       "45253  19891231  1989     12   31   \n",
       "45254  19891231  1989     12   31   \n",
       "\n",
       "                                               institute  ...  \\\n",
       "0                                                      0  ...   \n",
       "1      COMMONWEALTH SCIENTIFIC AND INDUSTRIAL RESEARC...  ...   \n",
       "2              WOODS HOLE OCEANOGRAPHIC INSTITUTE (WHOI)  ...   \n",
       "3      SCRIPPS INSTITUTION OF OCEANOGRAPHY; LA JOLLA; CA  ...   \n",
       "4      SCRIPPS INSTITUTION OF OCEANOGRAPHY; LA JOLLA; CA  ...   \n",
       "...                                                  ...  ...   \n",
       "45250  SCRIPPS INSTITUTION OF OCEANOGRAPHY; LA JOLLA; CA  ...   \n",
       "45251  SCRIPPS INSTITUTION OF OCEANOGRAPHY; LA JOLLA; CA  ...   \n",
       "45252  SCRIPPS INSTITUTION OF OCEANOGRAPHY; LA JOLLA; CA  ...   \n",
       "45253                                                  0  ...   \n",
       "45254                                                  0  ...   \n",
       "\n",
       "               instrument model manufacturer  \\\n",
       "0      XBT: T4 (SIPPICAN)    T4     SIPPICAN   \n",
       "1      XBT: T4 (SIPPICAN)    T4     SIPPICAN   \n",
       "2      XBT: T4 (SIPPICAN)    T4     SIPPICAN   \n",
       "3      XBT: T4 (SIPPICAN)    T4     SIPPICAN   \n",
       "4      XBT: T4 (SIPPICAN)    T4     SIPPICAN   \n",
       "...                   ...   ...          ...   \n",
       "45250  XBT: T4 (SIPPICAN)    T4     SIPPICAN   \n",
       "45251  XBT: T4 (SIPPICAN)    T4     SIPPICAN   \n",
       "45252  XBT: T4 (SIPPICAN)    T4     SIPPICAN   \n",
       "45253  XBT: T4 (SIPPICAN)    T4     SIPPICAN   \n",
       "45254  XBT: T4 (SIPPICAN)    T4     SIPPICAN   \n",
       "\n",
       "                                     temperature_profile  \\\n",
       "0      [25.21518325805664, 25.21518325805664, 23.7176...   \n",
       "1      [29.01881980895996, 29.01881980895996, 29.0188...   \n",
       "2      [1.0219964981079102, 0.9321467280387878, 1.161...   \n",
       "3      [4.9054999351501465, 5.175048828125, 5.1450991...   \n",
       "4      [25.72433090209961, 25.72433090209961, 25.7243...   \n",
       "...                                                  ...   \n",
       "45250  [26.96859359741211, 26.96859359741211, 26.7489...   \n",
       "45251  [17.105093002319336, 17.105093002319336, 16.56...   \n",
       "45252  [24.54265022277832, 24.362951278686523, 23.983...   \n",
       "45253  [15.731046676635742, 15.731046676635742, 14.45...   \n",
       "45254  [28.539621353149414, 28.539621353149414, 27.15...   \n",
       "\n",
       "                                temperature_quality_flag  \\\n",
       "0                                  [0 0 0 0 0 0 0 0 0 0]   \n",
       "1      [0 0 0 0 0 0 0 0 0 0 0 0 0 0 0 0 0 0 0 0 0 0 0...   \n",
       "2                      [0 0 0 0 0 0 0 0 0 0 0 0 0 0 0 0]   \n",
       "3                    [0 0 0 0 0 0 0 0 0 0 0 0 0 0 0 0 0]   \n",
       "4              [0 0 0 0 0 0 0 0 0 0 0 0 0 0 0 0 0 0 0 0]   \n",
       "...                                                  ...   \n",
       "45250            [0 0 0 0 0 0 0 0 0 0 0 0 0 0 0 0 0 0 0]   \n",
       "45251                            [0 0 0 0 0 0 0 0 0 0 0]   \n",
       "45252        [0 0 0 0 0 0 0 0 0 0 0 0 0 0 0 0 0 0 0 0 0]   \n",
       "45253                                [0 0 0 0 0 0 0 0 0]   \n",
       "45254                                [0 0 0 0 0 0 0 0 0]   \n",
       "\n",
       "                                           depth_profile   max_depth  \\\n",
       "0      [-1.0783271789550781, 60.332862854003906, 66.4...  261.971497   \n",
       "1      [-1.1384811401367188, 0.9119291305541992, 2.96...  468.027679   \n",
       "2      [-1.4234771728515625, 3.7395548820495605, 35.7...  103.817154   \n",
       "3      [-1.5554924011230469, 86.43159484863281, 97.80...  469.196045   \n",
       "4      [-1.1105690002441406, 2.9868502616882324, 84.9...  467.881012   \n",
       "...                                                  ...         ...   \n",
       "45250  [-2.1876754760742188, -1.1344484090805054, 92....  476.612762   \n",
       "45251  [-1.8463249206542969, -0.8021968603134155, 61....  473.795654   \n",
       "45252  [-2.105632781982422, 62.94382858276367, 73.415...  464.920776   \n",
       "45253  [-0.8218307495117188, 116.18955993652344, 141....  458.175262   \n",
       "45254  [-1.1294326782226562, 55.234642028808594, 67.5...  111.590996   \n",
       "\n",
       "                                      depth_quality_flag  imeta_applied  \\\n",
       "0                                  [0 0 0 0 0 0 0 0 0 0]              1   \n",
       "1      [0 0 0 0 0 0 0 0 0 0 0 0 0 0 0 0 0 0 0 0 0 0 0...              1   \n",
       "2                      [0 0 0 0 0 0 0 0 0 0 0 0 0 0 0 0]              0   \n",
       "3                    [0 0 0 0 0 0 0 0 0 0 0 0 0 0 0 0 0]              0   \n",
       "4              [0 0 0 0 0 0 0 0 0 0 0 0 0 0 0 0 0 0 0 0]              1   \n",
       "...                                                  ...            ...   \n",
       "45250            [0 0 0 0 0 0 0 0 0 0 0 0 0 0 0 0 0 0 0]              0   \n",
       "45251                            [0 0 0 0 0 0 0 0 0 0 0]              0   \n",
       "45252        [0 0 0 0 0 0 0 0 0 0 0 0 0 0 0 0 0 0 0 0 0]              0   \n",
       "45253                                [0 0 0 0 0 0 0 0 0]              1   \n",
       "45254                                [0 0 0 0 0 0 0 0 0]              1   \n",
       "\n",
       "            id  \n",
       "0      3847256  \n",
       "1      3133113  \n",
       "2      2923944  \n",
       "3      2923943  \n",
       "4      2923945  \n",
       "...        ...  \n",
       "45250  2943715  \n",
       "45251  2943716  \n",
       "45252  2943717  \n",
       "45253  3862589  \n",
       "45254  3862590  \n",
       "\n",
       "[45255 rows x 22 columns]"
      ]
     },
     "execution_count": 19,
     "metadata": {},
     "output_type": "execute_result"
    }
   ],
   "source": [
    "xbt_df"
   ]
  },
  {
   "cell_type": "code",
   "execution_count": 20,
   "metadata": {},
   "outputs": [
    {
     "data": {
      "text/plain": [
       "(45255, 22)"
      ]
     },
     "execution_count": 20,
     "metadata": {},
     "output_type": "execute_result"
    }
   ],
   "source": [
    "xbt_df.shape"
   ]
  },
  {
   "cell_type": "code",
   "execution_count": 21,
   "metadata": {},
   "outputs": [
    {
     "data": {
      "text/plain": [
       "Index(['Unnamed: 0', 'Unnamed: 0.1', 'country', 'lat', 'lon', 'date', 'year',\n",
       "       'month', 'day', 'institute', 'platform', 'cruise_number', 'instrument',\n",
       "       'model', 'manufacturer', 'temperature_profile',\n",
       "       'temperature_quality_flag', 'depth_profile', 'max_depth',\n",
       "       'depth_quality_flag', 'imeta_applied', 'id'],\n",
       "      dtype='object')"
      ]
     },
     "execution_count": 21,
     "metadata": {},
     "output_type": "execute_result"
    }
   ],
   "source": [
    "xbt_df.columns"
   ]
  },
  {
   "cell_type": "code",
   "execution_count": 22,
   "metadata": {},
   "outputs": [],
   "source": [
    "columns = ['lat','lon', 'instrument', 'max_depth', 'year', 'month', 'day', 'cruise_number']"
   ]
  },
  {
   "cell_type": "markdown",
   "metadata": {},
   "source": [
    "Now lets load the whole dataset, but only some of the columns to save space in memory and improve performance"
   ]
  },
  {
   "cell_type": "code",
   "execution_count": 23,
   "metadata": {},
   "outputs": [],
   "source": [
    "xbt_df = pandas.concat((pandas.read_csv(p1, usecols=columns) for p1 in xbt_paths), ignore_index=True)"
   ]
  },
  {
   "cell_type": "code",
   "execution_count": 24,
   "metadata": {},
   "outputs": [
    {
     "data": {
      "text/plain": [
       "(128237, 8)"
      ]
     },
     "execution_count": 24,
     "metadata": {},
     "output_type": "execute_result"
    }
   ],
   "source": [
    "xbt_df.shape"
   ]
  },
  {
   "cell_type": "markdown",
   "metadata": {},
   "source": [
    "### Common operations in pandas\n",
    "\n",
    "Now that we can load tabular data into Pandas, we will look at how some common operations when done in pandas are more inttuitive and done with less code than when done manually. \n",
    "\n",
    "Perhaps the most important advantage of using a library such as Pandas is that it has been optimised for large tabular datasets, and so will usually perform better than manual python code."
   ]
  },
  {
   "cell_type": "markdown",
   "metadata": {},
   "source": [
    "We might start by selecting a subset of data. We might be interested in  a particular month."
   ]
  },
  {
   "cell_type": "code",
   "execution_count": 25,
   "metadata": {},
   "outputs": [
    {
     "data": {
      "text/html": [
       "<div>\n",
       "<style scoped>\n",
       "    .dataframe tbody tr th:only-of-type {\n",
       "        vertical-align: middle;\n",
       "    }\n",
       "\n",
       "    .dataframe tbody tr th {\n",
       "        vertical-align: top;\n",
       "    }\n",
       "\n",
       "    .dataframe thead th {\n",
       "        text-align: right;\n",
       "    }\n",
       "</style>\n",
       "<table border=\"1\" class=\"dataframe\">\n",
       "  <thead>\n",
       "    <tr style=\"text-align: right;\">\n",
       "      <th></th>\n",
       "      <th>lat</th>\n",
       "      <th>lon</th>\n",
       "      <th>year</th>\n",
       "      <th>month</th>\n",
       "      <th>day</th>\n",
       "      <th>cruise_number</th>\n",
       "      <th>instrument</th>\n",
       "      <th>max_depth</th>\n",
       "    </tr>\n",
       "  </thead>\n",
       "  <tbody>\n",
       "    <tr>\n",
       "      <th>50430</th>\n",
       "      <td>14.916700</td>\n",
       "      <td>-95.416702</td>\n",
       "      <td>1990</td>\n",
       "      <td>2</td>\n",
       "      <td>1</td>\n",
       "      <td>NL110209</td>\n",
       "      <td>XBT: T4 (SIPPICAN)</td>\n",
       "      <td>469.897491</td>\n",
       "    </tr>\n",
       "    <tr>\n",
       "      <th>50431</th>\n",
       "      <td>32.683300</td>\n",
       "      <td>-117.483299</td>\n",
       "      <td>1990</td>\n",
       "      <td>2</td>\n",
       "      <td>1</td>\n",
       "      <td>US108808</td>\n",
       "      <td>XBT: T4 (SIPPICAN)</td>\n",
       "      <td>466.177460</td>\n",
       "    </tr>\n",
       "    <tr>\n",
       "      <th>50432</th>\n",
       "      <td>32.200001</td>\n",
       "      <td>-78.633301</td>\n",
       "      <td>1990</td>\n",
       "      <td>2</td>\n",
       "      <td>1</td>\n",
       "      <td>US108784</td>\n",
       "      <td>XBT: T4 (SIPPICAN)</td>\n",
       "      <td>403.677704</td>\n",
       "    </tr>\n",
       "    <tr>\n",
       "      <th>50433</th>\n",
       "      <td>-34.016701</td>\n",
       "      <td>156.583298</td>\n",
       "      <td>1990</td>\n",
       "      <td>2</td>\n",
       "      <td>1</td>\n",
       "      <td>AU078398</td>\n",
       "      <td>XBT: T4 (SIPPICAN)</td>\n",
       "      <td>383.463654</td>\n",
       "    </tr>\n",
       "    <tr>\n",
       "      <th>50434</th>\n",
       "      <td>12.991667</td>\n",
       "      <td>-71.940002</td>\n",
       "      <td>1990</td>\n",
       "      <td>2</td>\n",
       "      <td>1</td>\n",
       "      <td>US078191</td>\n",
       "      <td>XBT: T4 (SIPPICAN)</td>\n",
       "      <td>470.596527</td>\n",
       "    </tr>\n",
       "    <tr>\n",
       "      <th>...</th>\n",
       "      <td>...</td>\n",
       "      <td>...</td>\n",
       "      <td>...</td>\n",
       "      <td>...</td>\n",
       "      <td>...</td>\n",
       "      <td>...</td>\n",
       "      <td>...</td>\n",
       "      <td>...</td>\n",
       "    </tr>\n",
       "    <tr>\n",
       "      <th>57482</th>\n",
       "      <td>9.500000</td>\n",
       "      <td>-45.500000</td>\n",
       "      <td>1990</td>\n",
       "      <td>2</td>\n",
       "      <td>28</td>\n",
       "      <td>SU110334</td>\n",
       "      <td>XBT: T4 (SIPPICAN)</td>\n",
       "      <td>204.438065</td>\n",
       "    </tr>\n",
       "    <tr>\n",
       "      <th>57483</th>\n",
       "      <td>54.351700</td>\n",
       "      <td>-165.154999</td>\n",
       "      <td>1990</td>\n",
       "      <td>2</td>\n",
       "      <td>28</td>\n",
       "      <td>DK077519</td>\n",
       "      <td>XBT: T4 (UNKNOWN BRAND)</td>\n",
       "      <td>409.330261</td>\n",
       "    </tr>\n",
       "    <tr>\n",
       "      <th>57484</th>\n",
       "      <td>6.050000</td>\n",
       "      <td>-48.133301</td>\n",
       "      <td>1990</td>\n",
       "      <td>2</td>\n",
       "      <td>28</td>\n",
       "      <td>US078760</td>\n",
       "      <td>XBT: T4 (SIPPICAN)</td>\n",
       "      <td>468.246338</td>\n",
       "    </tr>\n",
       "    <tr>\n",
       "      <th>57485</th>\n",
       "      <td>27.116699</td>\n",
       "      <td>-161.866699</td>\n",
       "      <td>1990</td>\n",
       "      <td>2</td>\n",
       "      <td>28</td>\n",
       "      <td>SU110446</td>\n",
       "      <td>XBT: T4 (SIPPICAN)</td>\n",
       "      <td>204.031891</td>\n",
       "    </tr>\n",
       "    <tr>\n",
       "      <th>57486</th>\n",
       "      <td>38.150002</td>\n",
       "      <td>151.583298</td>\n",
       "      <td>1990</td>\n",
       "      <td>2</td>\n",
       "      <td>28</td>\n",
       "      <td>JP077590</td>\n",
       "      <td>XBT: T4 (TSK - TSURUMI SEIKI Co.)</td>\n",
       "      <td>458.972137</td>\n",
       "    </tr>\n",
       "  </tbody>\n",
       "</table>\n",
       "<p>7057 rows × 8 columns</p>\n",
       "</div>"
      ],
      "text/plain": [
       "             lat         lon  year  month  day cruise_number  \\\n",
       "50430  14.916700  -95.416702  1990      2    1      NL110209   \n",
       "50431  32.683300 -117.483299  1990      2    1      US108808   \n",
       "50432  32.200001  -78.633301  1990      2    1      US108784   \n",
       "50433 -34.016701  156.583298  1990      2    1      AU078398   \n",
       "50434  12.991667  -71.940002  1990      2    1      US078191   \n",
       "...          ...         ...   ...    ...  ...           ...   \n",
       "57482   9.500000  -45.500000  1990      2   28      SU110334   \n",
       "57483  54.351700 -165.154999  1990      2   28      DK077519   \n",
       "57484   6.050000  -48.133301  1990      2   28      US078760   \n",
       "57485  27.116699 -161.866699  1990      2   28      SU110446   \n",
       "57486  38.150002  151.583298  1990      2   28      JP077590   \n",
       "\n",
       "                              instrument   max_depth  \n",
       "50430                 XBT: T4 (SIPPICAN)  469.897491  \n",
       "50431                 XBT: T4 (SIPPICAN)  466.177460  \n",
       "50432                 XBT: T4 (SIPPICAN)  403.677704  \n",
       "50433                 XBT: T4 (SIPPICAN)  383.463654  \n",
       "50434                 XBT: T4 (SIPPICAN)  470.596527  \n",
       "...                                  ...         ...  \n",
       "57482                 XBT: T4 (SIPPICAN)  204.438065  \n",
       "57483            XBT: T4 (UNKNOWN BRAND)  409.330261  \n",
       "57484                 XBT: T4 (SIPPICAN)  468.246338  \n",
       "57485                 XBT: T4 (SIPPICAN)  204.031891  \n",
       "57486  XBT: T4 (TSK - TSURUMI SEIKI Co.)  458.972137  \n",
       "\n",
       "[7057 rows x 8 columns]"
      ]
     },
     "execution_count": 25,
     "metadata": {},
     "output_type": "execute_result"
    }
   ],
   "source": [
    "xbt_subset = xbt_df[(xbt_df.year == 1990) & (xbt_df.month == 2)]\n",
    "xbt_subset"
   ]
  },
  {
   "cell_type": "markdown",
   "metadata": {},
   "source": [
    "We also know that where the instrument is unknown, the data is unreliable, so lets exlcude those measurements from our analysis subset.\n"
   ]
  },
  {
   "cell_type": "code",
   "execution_count": 26,
   "metadata": {},
   "outputs": [],
   "source": [
    "xbt_subset = xbt_df[~xbt_df.instrument.str.upper().str.contains('UNKNOWN') & (xbt_df.year == 1990) & (xbt_df.month == 2)]"
   ]
  },
  {
   "cell_type": "markdown",
   "metadata": {},
   "source": [
    "Now we can perform an operation on that subset"
   ]
  },
  {
   "cell_type": "code",
   "execution_count": 27,
   "metadata": {},
   "outputs": [
    {
     "data": {
      "text/plain": [
       "XBT: T4 (SIPPICAN)                   3770\n",
       "XBT: T4 (TSK - TSURUMI SEIKI Co.)    1572\n",
       "XBT: T7 (SIPPICAN)                    975\n",
       "XBT: T5 (SIPPICAN)                    131\n",
       "XBT: XBT-7 (SPARTON)                   75\n",
       "XBT: T5 (TSK - TSURUMI SEIKI Co.)      51\n",
       "XBT: T7 (TSK - TSURUMI SEIKI Co.)      48\n",
       "XBT: T11 (SIPPICAN)                    12\n",
       "XBT: T6 (TSK - TSURUMI SEIKI Co.)       9\n",
       "XBT: DEEP BLUE (SIPPICAN)               7\n",
       "Name: instrument, dtype: int64"
      ]
     },
     "execution_count": 27,
     "metadata": {},
     "output_type": "execute_result"
    }
   ],
   "source": [
    "xbt_subset.instrument.value_counts()"
   ]
  },
  {
   "cell_type": "code",
   "execution_count": 28,
   "metadata": {},
   "outputs": [
    {
     "data": {
      "text/plain": [
       "(1874.0743408203125, 476.3937799949933)"
      ]
     },
     "execution_count": 28,
     "metadata": {},
     "output_type": "execute_result"
    }
   ],
   "source": [
    "(xbt_subset.max_depth.max(), xbt_subset.max_depth.mean())"
   ]
  },
  {
   "cell_type": "raw",
   "metadata": {},
   "source": [
    "Where possible, you should operate on whole dataframes or columns fr efficiency. Occasionally you need to perform a specialised operation. Uou can use `apply` to perform a custom defined function on each element in a column, or each row in a dataframe."
   ]
  },
  {
   "cell_type": "code",
   "execution_count": 29,
   "metadata": {},
   "outputs": [],
   "source": [
    "CONV_FACTOR = 10.0 / 3.0\n",
    "def convert_metres_to_feet(x):\n",
    "    return x * CONV_FACTOR"
   ]
  },
  {
   "cell_type": "code",
   "execution_count": 30,
   "metadata": {},
   "outputs": [
    {
     "data": {
      "text/plain": [
       "50430    1566.324972\n",
       "50431    1553.924866\n",
       "50432    1345.592346\n",
       "50433    1278.212179\n",
       "50434    1568.655090\n",
       "            ...     \n",
       "57481    1534.543966\n",
       "57482     681.460215\n",
       "57484    1560.821126\n",
       "57485     680.106303\n",
       "57486    1529.907125\n",
       "Name: max_depth, Length: 6650, dtype: float64"
      ]
     },
     "execution_count": 30,
     "metadata": {},
     "output_type": "execute_result"
    }
   ],
   "source": [
    "# column\n",
    "xbt_subset.max_depth.apply(convert_metres_to_feet)"
   ]
  },
  {
   "cell_type": "code",
   "execution_count": 31,
   "metadata": {},
   "outputs": [
    {
     "data": {
      "text/plain": [
       "50430    1566.324972\n",
       "50431    1553.924866\n",
       "50432    1345.592346\n",
       "50433    1278.212179\n",
       "50434    1568.655090\n",
       "            ...     \n",
       "57481    1534.543966\n",
       "57482     681.460215\n",
       "57484    1560.821126\n",
       "57485     680.106303\n",
       "57486    1529.907125\n",
       "Length: 6650, dtype: float64"
      ]
     },
     "execution_count": 31,
     "metadata": {},
     "output_type": "execute_result"
    }
   ],
   "source": [
    "# apply to rows of a data frame (axis=1 is to each row, axis=0 is to each column)\n",
    "xbt_subset.apply(lambda row1: convert_metres_to_feet(row1['max_depth']), axis=1) "
   ]
  },
  {
   "cell_type": "markdown",
   "metadata": {},
   "source": [
    "### Plotting with pandas\n",
    "A very important part of analysis is representing your data visually. We have seen how to use the maplotlib libary for basic plotting. Pandas wraps matplotlib to make creation of complex plots easier."
   ]
  },
  {
   "cell_type": "code",
   "execution_count": 32,
   "metadata": {},
   "outputs": [
    {
     "data": {
      "text/plain": [
       "<AxesSubplot:xlabel='time'>"
      ]
     },
     "execution_count": 32,
     "metadata": {},
     "output_type": "execute_result"
    },
    {
     "data": {
      "image/png": "[encoded data removed]",
      "text/plain": [
       "<Figure size 432x288 with 1 Axes>"
      ]
     },
     "metadata": {
      "needs_background": "light"
     },
     "output_type": "display_data"
    }
   ],
   "source": [
    "weather_merged.plot.line(x='time', y='temperature')"
   ]
  },
  {
   "cell_type": "code",
   "execution_count": 33,
   "metadata": {},
   "outputs": [
    {
     "data": {
      "text/plain": [
       "<AxesSubplot:xlabel='time'>"
      ]
     },
     "execution_count": 33,
     "metadata": {},
     "output_type": "execute_result"
    },
    {
     "data": {
      "image/png": "[encoded data removed]",
      "text/plain": [
       "<Figure size 432x288 with 1 Axes>"
      ]
     },
     "metadata": {
      "needs_background": "light"
     },
     "output_type": "display_data"
    },
    {
     "data": {
      "image/png": "[encoded data removed]",
      "text/plain": [
       "<Figure size 432x288 with 1 Axes>"
      ]
     },
     "metadata": {
      "needs_background": "light"
     },
     "output_type": "display_data"
    }
   ],
   "source": [
    "weather_merged.plot.line(x='time', y='temperature')\n",
    "weather_merged.plot.bar(x='time', y='rain')"
   ]
  },
  {
   "cell_type": "markdown",
   "metadata": {},
   "source": [
    "We can perform sophisticated compound operations easily in Pandas. For example for the XBT dataset, we know that measurements from different instrument types usually have different maximum depths. Lets find and plot the the mean of max depth for different probe types."
   ]
  },
  {
   "cell_type": "code",
   "execution_count": 34,
   "metadata": {},
   "outputs": [
    {
     "data": {
      "text/plain": [
       "instrument\n",
       "XBT: DEEP BLUE (SIPPICAN)             823.839352\n",
       "XBT: DEEP BLUE, UNKNOWN BRAND         602.000165\n",
       "XBT: T10 (SIPPICAN)                    95.345037\n",
       "XBT: T10 (UNKNOWN BRAND)               85.898360\n",
       "XBT: T11 (SIPPICAN)                   308.822156\n",
       "XBT: T11 (UNKNOWN BRAND)              154.671509\n",
       "XBT: T4 (SIPPICAN)                    377.380205\n",
       "XBT: T4 (TSK - TSURUMI SEIKI Co.)     402.662306\n",
       "XBT: T4 (UNKNOWN BRAND)               434.371466\n",
       "XBT: T5 (SIPPICAN)                   1489.610453\n",
       "XBT: T5 (TSK - TSURUMI SEIKI Co.)    1244.224875\n",
       "XBT: T5 (UNKNOWN BRAND)               891.807059\n",
       "XBT: T6 (SIPPICAN)                    169.961629\n",
       "XBT: T6 (TSK - TSURUMI SEIKI Co.)     714.895652\n",
       "XBT: T6 (UNKNOWN BRAND)               410.791185\n",
       "XBT: T7 (SIPPICAN)                    765.226844\n",
       "XBT: T7 (TSK - TSURUMI SEIKI Co.)     776.078924\n",
       "XBT: T7 (UNKNOWN BRAND)               733.521680\n",
       "XBT: TYPE UNKNOWN                    3471.687500\n",
       "XBT: XBT-7 (SPARTON)                  778.876879\n",
       "Name: max_depth, dtype: float64"
      ]
     },
     "execution_count": 34,
     "metadata": {},
     "output_type": "execute_result"
    }
   ],
   "source": [
    "xbt_df.groupby('instrument').max_depth.mean()"
   ]
  },
  {
   "cell_type": "code",
   "execution_count": 35,
   "metadata": {},
   "outputs": [
    {
     "data": {
      "text/plain": [
       "instrument\n",
       "XBT: DEEP BLUE (SIPPICAN)             823.839352\n",
       "XBT: DEEP BLUE, UNKNOWN BRAND         602.000165\n",
       "XBT: T10 (SIPPICAN)                    95.345037\n",
       "XBT: T10 (UNKNOWN BRAND)               85.898360\n",
       "XBT: T11 (SIPPICAN)                   308.822156\n",
       "XBT: T11 (UNKNOWN BRAND)              154.671509\n",
       "XBT: T4 (SIPPICAN)                    377.380205\n",
       "XBT: T4 (TSK - TSURUMI SEIKI Co.)     402.662306\n",
       "XBT: T4 (UNKNOWN BRAND)               434.371466\n",
       "XBT: T5 (SIPPICAN)                   1489.610453\n",
       "XBT: T5 (TSK - TSURUMI SEIKI Co.)    1244.224875\n",
       "XBT: T5 (UNKNOWN BRAND)               891.807059\n",
       "XBT: T6 (SIPPICAN)                    169.961629\n",
       "XBT: T6 (TSK - TSURUMI SEIKI Co.)     714.895652\n",
       "XBT: T6 (UNKNOWN BRAND)               410.791185\n",
       "XBT: T7 (SIPPICAN)                    765.226844\n",
       "XBT: T7 (TSK - TSURUMI SEIKI Co.)     776.078924\n",
       "XBT: T7 (UNKNOWN BRAND)               733.521680\n",
       "XBT: TYPE UNKNOWN                    3471.687500\n",
       "XBT: XBT-7 (SPARTON)                  778.876879\n",
       "Name: max_depth, dtype: float64"
      ]
     },
     "execution_count": 35,
     "metadata": {},
     "output_type": "execute_result"
    }
   ],
   "source": [
    "xbt_df.groupby('instrument').max_depth.mean()"
   ]
  },
  {
   "cell_type": "code",
   "execution_count": 36,
   "metadata": {},
   "outputs": [
    {
     "data": {
      "text/plain": [
       "<AxesSubplot:xlabel='instrument'>"
      ]
     },
     "execution_count": 36,
     "metadata": {},
     "output_type": "execute_result"
    },
    {
     "data": {
      "image/png": "[encoded data removed]",
      "text/plain": [
       "<Figure size 432x288 with 1 Axes>"
      ]
     },
     "metadata": {
      "needs_background": "light"
     },
     "output_type": "display_data"
    }
   ],
   "source": [
    "xbt_df.groupby('instrument').max_depth.mean().plot.bar()"
   ]
  },
  {
   "cell_type": "markdown",
   "metadata": {},
   "source": [
    "## advantages of pandas\n",
    "more efficient\n",
    "scaling using dask\n",
    "compact code\n",
    "a lot of built in functionality and interoperability"
   ]
  },
  {
   "cell_type": "code",
   "execution_count": null,
   "metadata": {},
   "outputs": [],
   "source": []
  },
  {
   "cell_type": "markdown",
   "metadata": {},
   "source": [
    "### comparison with databases\n",
    "\n",
    "\n",
    "SQL vs pandas\n",
    "* https://towardsdatascience.com/sql-vs-pandas-which-one-to-choose-in-2020-a98f236829ef\n",
    "* https://towardsdatascience.com/sql-vs-pandas-which-one-to-choose-in-2020-part-2-9268d4a69984\n",
    "\n",
    "https://datascience.stackexchange.com/questions/34357/why-do-people-prefer-pandas-to-sql"
   ]
  },
  {
   "cell_type": "code",
   "execution_count": null,
   "metadata": {},
   "outputs": [],
   "source": []
  }
 ],
 "metadata": {
  "kernelspec": {
   "display_name": "Python 3",
   "language": "python",
   "name": "python3"
  },
  "language_info": {
   "codemirror_mode": {
    "name": "ipython",
    "version": 3
   },
   "file_extension": ".py",
   "mimetype": "text/x-python",
   "name": "python",
   "nbconvert_exporter": "python",
   "pygments_lexer": "ipython3",
   "version": "3.8.6"
  }
 },
 "nbformat": 4,
 "nbformat_minor": 4
}
