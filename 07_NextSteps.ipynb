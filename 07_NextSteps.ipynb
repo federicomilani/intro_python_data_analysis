{
 "cells": [
  {
   "cell_type": "markdown",
   "metadata": {},
   "source": [
    "# Next Steps for Data Analysis\n",
    "\n",
    "If you have gone through the notebooks in this series, you should have sufficient understanding of all the building blocks for doing Data Analysis in Python to start trying it out on a real-world problem. In this note3book, we will briefly look at some next steps in data analysis."
   ]
  },
  {
   "cell_type": "markdown",
   "metadata": {},
   "source": [
    "## More Data! How to handle big datasets\n",
    "\n",
    "Data Science has developed greatly in the last 20 years and become much more relevant to the daily activities of almost veryone mainly because the huge increase in the possibilities for collecting data in the digital age with widespread availability of relatively cheap IT.With more data, more insight can be gained from analysing the data, but it also greatly increase the challenges associated with processing it. It is very easy to find yourself needing to process a dataset that cannot easily be handled on a standard desktop or laptop computer. In this section, we will look at options for handling bigger datasets."
   ]
  },
  {
   "cell_type": "markdown",
   "metadata": {},
   "source": [
    "### Dask\n",
    "\n",
    "https://dask.org/"
   ]
  },
  {
   "cell_type": "code",
   "execution_count": null,
   "metadata": {},
   "outputs": [],
   "source": []
  },
  {
   "cell_type": "markdown",
   "metadata": {},
   "source": [
    "### Cloud computing\n",
    "\n",
    "* Amazon Web Services (AWS) - https://aws.amazon.com/\n",
    "* Microsoft Azure - https://azure.microsoft.com/en-gb/\n",
    "* Google Cloud- https://cloud.google.com/\n",
    "* Digital Ocean - https://www.digitalocean.com/\n"
   ]
  },
  {
   "cell_type": "code",
   "execution_count": null,
   "metadata": {},
   "outputs": [],
   "source": []
  },
  {
   "cell_type": "markdown",
   "metadata": {},
   "source": [
    "## Interactive visualiations"
   ]
  },
  {
   "cell_type": "markdown",
   "metadata": {},
   "source": [
    "https://docs.bokeh.org/en/latest/index.html"
   ]
  },
  {
   "cell_type": "markdown",
   "metadata": {},
   "source": [
    "https://plotly.com/"
   ]
  },
  {
   "cell_type": "code",
   "execution_count": null,
   "metadata": {},
   "outputs": [],
   "source": []
  },
  {
   "cell_type": "markdown",
   "metadata": {},
   "source": [
    "## Machine learning\n",
    "\n",
    "* scikit-learn https://scikit-learn.org/stable/\n",
    "* tensorflow https://www.tensorflow.org/\n",
    "\n"
   ]
  },
  {
   "cell_type": "code",
   "execution_count": null,
   "metadata": {},
   "outputs": [],
   "source": []
  },
  {
   "cell_type": "code",
   "execution_count": null,
   "metadata": {},
   "outputs": [],
   "source": []
  },
  {
   "cell_type": "markdown",
   "metadata": {},
   "source": [
    "## Even less code - Software as a Service (SaaS)\n",
    "\n",
    "* AWS SageMaker - https://aws.amazon.com/sagemaker/\n",
    "* AzureML - https://studio.azureml.net/"
   ]
  },
  {
   "cell_type": "code",
   "execution_count": null,
   "metadata": {},
   "outputs": [],
   "source": []
  },
  {
   "cell_type": "code",
   "execution_count": null,
   "metadata": {},
   "outputs": [],
   "source": []
  },
  {
   "cell_type": "code",
   "execution_count": null,
   "metadata": {},
   "outputs": [],
   "source": []
  }
 ],
 "metadata": {
  "kernelspec": {
   "display_name": "Python 3",
   "language": "python",
   "name": "python3"
  },
  "language_info": {
   "codemirror_mode": {
    "name": "ipython",
    "version": 3
   },
   "file_extension": ".py",
   "mimetype": "text/x-python",
   "name": "python",
   "nbconvert_exporter": "python",
   "pygments_lexer": "ipython3",
   "version": "3.8.6"
  }
 },
 "nbformat": 4,
 "nbformat_minor": 4
}
