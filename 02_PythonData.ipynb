{
 "cells": [
  {
   "cell_type": "markdown",
   "metadata": {},
   "source": [
    "# Python Data Structures\n",
    "\n",
    "![Python Logo](https://www.python.org/static/community_logos/python-logo-master-v3-TM.png)\n",
    "\n",
    "The starting point in considering analysing data is to consider how python will handle your data. We will start by looking at native python data structure (that is data structures that are available by default with the language and do not require additional libraries.\n",
    "\n",
    "In this part we will look at the core data structures in standard python and how to work with them. We will then also start looking at types of data."
   ]
  },
  {
   "cell_type": "markdown",
   "metadata": {},
   "source": [
    "## Lists\n",
    "\n",
    "A list is a collection of items that can be iterated through. There are several ways to create a list."
   ]
  },
  {
   "cell_type": "markdown",
   "metadata": {},
   "source": [
    "The first is to manually define a list:"
   ]
  },
  {
   "cell_type": "code",
   "execution_count": 1,
   "metadata": {},
   "outputs": [
    {
     "data": {
      "text/plain": [
       "[1, 2, 3, 4, 5]"
      ]
     },
     "execution_count": 1,
     "metadata": {},
     "output_type": "execute_result"
    }
   ],
   "source": [
    "my_list = [1,2,3,4,5]\n",
    "my_list"
   ]
  },
  {
   "cell_type": "markdown",
   "metadata": {},
   "source": [
    "you can also generate a list from a function. For example range generates a sequence of numbers"
   ]
  },
  {
   "cell_type": "code",
   "execution_count": 2,
   "metadata": {},
   "outputs": [
    {
     "data": {
      "text/plain": [
       "[2, 5, 8, 11]"
      ]
     },
     "execution_count": 2,
     "metadata": {},
     "output_type": "execute_result"
    }
   ],
   "source": [
    "list(range(2,12,3))"
   ]
  },
  {
   "cell_type": "markdown",
   "metadata": {},
   "source": [
    "Lists can contain objects of different types, including sublists:"
   ]
  },
  {
   "cell_type": "code",
   "execution_count": 3,
   "metadata": {},
   "outputs": [
    {
     "data": {
      "text/plain": [
       "[1, 'a', 3.0, [4, 5.0]]"
      ]
     },
     "execution_count": 3,
     "metadata": {},
     "output_type": "execute_result"
    }
   ],
   "source": [
    "my_list = [1,'a',3.0, [4, 5.0]]\n",
    "my_list"
   ]
  },
  {
   "cell_type": "markdown",
   "metadata": {},
   "source": [
    "Items in a list can be referenced, changed, added or removed."
   ]
  },
  {
   "cell_type": "code",
   "execution_count": 4,
   "metadata": {},
   "outputs": [
    {
     "data": {
      "text/plain": [
       "3.0"
      ]
     },
     "execution_count": 4,
     "metadata": {},
     "output_type": "execute_result"
    }
   ],
   "source": [
    "my_list[2]"
   ]
  },
  {
   "cell_type": "code",
   "execution_count": 5,
   "metadata": {},
   "outputs": [
    {
     "data": {
      "text/plain": [
       "[1, 'a', 4.0, [4, 5.0]]"
      ]
     },
     "execution_count": 5,
     "metadata": {},
     "output_type": "execute_result"
    }
   ],
   "source": [
    "my_list[2] = 4.0\n",
    "my_list"
   ]
  },
  {
   "cell_type": "code",
   "execution_count": 6,
   "metadata": {},
   "outputs": [
    {
     "data": {
      "text/plain": [
       "[1, 'a', 4.0, [4, 5.0], 6.0]"
      ]
     },
     "execution_count": 6,
     "metadata": {},
     "output_type": "execute_result"
    }
   ],
   "source": [
    "my_list.append(6.0)\n",
    "my_list"
   ]
  },
  {
   "cell_type": "code",
   "execution_count": 7,
   "metadata": {},
   "outputs": [
    {
     "data": {
      "text/plain": [
       "[1, 'a', 4.0, [4, 5.0]]"
      ]
     },
     "execution_count": 7,
     "metadata": {},
     "output_type": "execute_result"
    }
   ],
   "source": [
    "my_list.remove(6.0)\n",
    "my_list"
   ]
  },
  {
   "cell_type": "markdown",
   "metadata": {},
   "source": [
    "Operations can be performed on whole lists"
   ]
  },
  {
   "cell_type": "code",
   "execution_count": 8,
   "metadata": {},
   "outputs": [
    {
     "data": {
      "text/plain": [
       "[1, 'a', 4.0, [4, 5.0], 7, 5, 'f']"
      ]
     },
     "execution_count": 8,
     "metadata": {},
     "output_type": "execute_result"
    }
   ],
   "source": [
    "big_list = my_list + [ 7,5,'f']\n",
    "big_list"
   ]
  },
  {
   "cell_type": "code",
   "execution_count": 9,
   "metadata": {},
   "outputs": [
    {
     "data": {
      "text/plain": [
       "['a', 'b', 'a', 'b', 'a', 'b', 'a', 'b', 'a', 'b']"
      ]
     },
     "execution_count": 9,
     "metadata": {},
     "output_type": "execute_result"
    }
   ],
   "source": [
    "['a', 'b'] * 5"
   ]
  },
  {
   "cell_type": "markdown",
   "metadata": {},
   "source": [
    "A key concept in python is an item can be *iterable*, this mean than we do they same action to each item in the collecton represented by the item using reptition functionality like a for loop. A list is a basic iterable."
   ]
  },
  {
   "cell_type": "code",
   "execution_count": 10,
   "metadata": {},
   "outputs": [
    {
     "name": "stdout",
     "output_type": "stream",
     "text": [
      "1\n",
      "a\n",
      "4.0\n",
      "[4, 5.0]\n"
     ]
    }
   ],
   "source": [
    "for my_item in my_list:\n",
    "    print(my_item)"
   ]
  },
  {
   "cell_type": "markdown",
   "metadata": {},
   "source": [
    "## Tuple\n",
    "A similar concept is a tuple. It is created using round brackets rather than square brackets."
   ]
  },
  {
   "cell_type": "code",
   "execution_count": 11,
   "metadata": {},
   "outputs": [],
   "source": [
    "my_tuple = (1,2,3)"
   ]
  },
  {
   "cell_type": "markdown",
   "metadata": {},
   "source": [
    "The difference between lists and tuples is that a list can be changed after it is created e.g. adding extra items (this is called *utable*), while tuples cannot be changed after being created (*immutable*)."
   ]
  },
  {
   "cell_type": "code",
   "execution_count": 12,
   "metadata": {},
   "outputs": [
    {
     "data": {
      "text/plain": [
       "2"
      ]
     },
     "execution_count": 12,
     "metadata": {},
     "output_type": "execute_result"
    }
   ],
   "source": [
    "my_tuple[1]"
   ]
  },
  {
   "cell_type": "code",
   "execution_count": 13,
   "metadata": {},
   "outputs": [
    {
     "ename": "TypeError",
     "evalue": "'tuple' object does not support item assignment",
     "output_type": "error",
     "traceback": [
      "\u001b[1;31m---------------------------------------------------------------------------\u001b[0m",
      "\u001b[1;31mTypeError\u001b[0m                                 Traceback (most recent call last)",
      "\u001b[1;32m<ipython-input-13-dadb5ddecbd5>\u001b[0m in \u001b[0;36m<module>\u001b[1;34m\u001b[0m\n\u001b[1;32m----> 1\u001b[1;33m \u001b[0mmy_tuple\u001b[0m\u001b[1;33m[\u001b[0m\u001b[1;36m1\u001b[0m\u001b[1;33m]\u001b[0m \u001b[1;33m=\u001b[0m \u001b[1;36m4\u001b[0m\u001b[1;33m\u001b[0m\u001b[1;33m\u001b[0m\u001b[0m\n\u001b[0m",
      "\u001b[1;31mTypeError\u001b[0m: 'tuple' object does not support item assignment"
     ]
    }
   ],
   "source": [
    "my_tuple[1] = 4"
   ]
  },
  {
   "cell_type": "markdown",
   "metadata": {},
   "source": [
    "## Dictionary\n",
    "Another convenient way to store data in python is to associate each value with a key. For example you might store the population of a country with the country name."
   ]
  },
  {
   "cell_type": "code",
   "execution_count": 14,
   "metadata": {},
   "outputs": [],
   "source": [
    "population_data = {'United Kingdom': 66.6,\n",
    "                   'France': 66.9,\n",
    "                   'Germany': 83.02,\n",
    "                   'Spain': 46.94,\n",
    "                   'Italy': 60.36,\n",
    "                   'Portugal': 10.28,\n",
    "                   'Netherlands': 17.28,\n",
    "                   'Belgium': 11.46,\n",
    "                  }"
   ]
  },
  {
   "cell_type": "code",
   "execution_count": 15,
   "metadata": {},
   "outputs": [
    {
     "data": {
      "text/plain": [
       "{'United Kingdom': 66.6,\n",
       " 'France': 66.9,\n",
       " 'Germany': 83.02,\n",
       " 'Spain': 46.94,\n",
       " 'Italy': 60.36,\n",
       " 'Portugal': 10.28,\n",
       " 'Netherlands': 17.28,\n",
       " 'Belgium': 11.46}"
      ]
     },
     "execution_count": 15,
     "metadata": {},
     "output_type": "execute_result"
    }
   ],
   "source": [
    "population_data"
   ]
  },
  {
   "cell_type": "code",
   "execution_count": 16,
   "metadata": {},
   "outputs": [
    {
     "data": {
      "text/plain": [
       "66.9"
      ]
     },
     "execution_count": 16,
     "metadata": {},
     "output_type": "execute_result"
    }
   ],
   "source": [
    "population_data['France']"
   ]
  },
  {
   "cell_type": "code",
   "execution_count": 17,
   "metadata": {},
   "outputs": [],
   "source": [
    "population_data['Switzerland'] = 8.55"
   ]
  },
  {
   "cell_type": "code",
   "execution_count": 18,
   "metadata": {},
   "outputs": [
    {
     "name": "stdout",
     "output_type": "stream",
     "text": [
      "The population of United Kingdom is 66.60 millions.\n",
      "The population of France is 66.90 millions.\n",
      "The population of Germany is 83.02 millions.\n",
      "The population of Spain is 46.94 millions.\n",
      "The population of Italy is 60.36 millions.\n",
      "The population of Portugal is 10.28 millions.\n",
      "The population of Netherlands is 17.28 millions.\n",
      "The population of Belgium is 11.46 millions.\n",
      "The population of Switzerland is 8.55 millions.\n"
     ]
    }
   ],
   "source": [
    "for country_name, population in population_data.items():\n",
    "    print(f'The population of {country_name} is {population:.2f} millions.')"
   ]
  },
  {
   "cell_type": "markdown",
   "metadata": {},
   "source": [
    "## Key data types\n",
    "There are two core types of data that are common used in Data Science:\n",
    "* **Tabular Data** - this is data in rows and columns, as you would expect to see in a spreadsheet. \n",
    "  * Each row represents a data point e.g. e.g. each employee in a payroll system; each measurement time in a weather observation system\n",
    "  * Each column represent a feature of the data point e.g. name, employee ID, department, salary in a payroll system; temperature, wind, sunshine in a weather observation system\n",
    "* **Gridded Data** - A multi-dimensional array of data, reperesenting a regular grid of measurements.\n",
    "  * This might the output of a weather forecast model over the UK. \n",
    "  * Dimensions could be latitude, longitude and time.\n"
   ]
  },
  {
   "cell_type": "markdown",
   "metadata": {},
   "source": [
    "### Reading and writing data\n",
    "\n",
    "Python's batteries included philosophy includes many options for reading/writing data without having to import thrid part libraries.\n"
   ]
  },
  {
   "cell_type": "markdown",
   "metadata": {},
   "source": [
    "Lets start by reading and writing example data from a comma-separated value or CSV file. These are basic storage format like a simple spreadsheet.\n",
    "\n",
    "https://docs.python.org/3/library/csv.html"
   ]
  },
  {
   "cell_type": "code",
   "execution_count": 19,
   "metadata": {},
   "outputs": [],
   "source": [
    "import csv"
   ]
  },
  {
   "cell_type": "code",
   "execution_count": 20,
   "metadata": {},
   "outputs": [
    {
     "name": "stdout",
     "output_type": "stream",
     "text": [
      "['time', 'temperature', 'wind', 'rain']\n",
      "['1400', '21', '2', '0']\n",
      "['1500', '24', '5', '0']\n",
      "['1600', '20', '15', '1']\n",
      "['1700', '22', '5', '15']\n",
      "['1800', '21', '1', '0']\n"
     ]
    }
   ],
   "source": [
    "with open('weather.csv') as file_in1:\n",
    "    weather_reader1 = csv.reader(file_in1, delimiter=',')\n",
    "    for measurement_row in weather_reader1:\n",
    "        print(measurement_row)"
   ]
  },
  {
   "cell_type": "code",
   "execution_count": 21,
   "metadata": {},
   "outputs": [],
   "source": [
    "\n",
    "with open('weather.csv') as file_in1:\n",
    "    weather_data1 = csv.DictReader(file_in1, delimiter=',')\n",
    "    weather_dict = {measurement_row['time'] : measurement_row for measurement_row in weather_data1}"
   ]
  },
  {
   "cell_type": "code",
   "execution_count": 22,
   "metadata": {},
   "outputs": [
    {
     "data": {
      "text/plain": [
       "{'1400': {'time': '1400', 'temperature': '21', 'wind': '2', 'rain': '0'},\n",
       " '1500': {'time': '1500', 'temperature': '24', 'wind': '5', 'rain': '0'},\n",
       " '1600': {'time': '1600', 'temperature': '20', 'wind': '15', 'rain': '1'},\n",
       " '1700': {'time': '1700', 'temperature': '22', 'wind': '5', 'rain': '15'},\n",
       " '1800': {'time': '1800', 'temperature': '21', 'wind': '1', 'rain': '0'}}"
      ]
     },
     "execution_count": 22,
     "metadata": {},
     "output_type": "execute_result"
    }
   ],
   "source": [
    "weather_dict"
   ]
  },
  {
   "cell_type": "code",
   "execution_count": 23,
   "metadata": {},
   "outputs": [
    {
     "data": {
      "text/plain": [
       "'20'"
      ]
     },
     "execution_count": 23,
     "metadata": {},
     "output_type": "execute_result"
    }
   ],
   "source": [
    "weather_dict['1600']['temperature']"
   ]
  },
  {
   "cell_type": "markdown",
   "metadata": {},
   "source": [
    "We can see we are now starting to get our data organised using pythons basic data structures and libraries.\n",
    "\n",
    "In our next notebook we will look at loading gridded data using a third-party library."
   ]
  }
 ],
 "metadata": {
  "kernelspec": {
   "display_name": "Python 3",
   "language": "python",
   "name": "python3"
  },
  "language_info": {
   "codemirror_mode": {
    "name": "ipython",
    "version": 3
   },
   "file_extension": ".py",
   "mimetype": "text/x-python",
   "name": "python",
   "nbconvert_exporter": "python",
   "pygments_lexer": "ipython3",
   "version": "3.8.3"
  }
 },
 "nbformat": 4,
 "nbformat_minor": 4
}
