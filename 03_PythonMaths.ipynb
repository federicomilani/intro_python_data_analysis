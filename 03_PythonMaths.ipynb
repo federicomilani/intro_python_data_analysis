{
 "cells": [
  {
   "cell_type": "markdown",
   "metadata": {},
   "source": [
    "# Python maths and stats - numpy\n",
    "\n",
    "Now that we have some data in a structure, we may want to do something with it. In this part we will look at some maths and stats operations, both in basic python, but also using a third-party library numpy, which is considered almost part of standard python for scientific applications. Numpy provides far more functionality that I can describe here, but the core is structures and functions for handling and exploiting numerical data.\n",
    "\n",
    "Documentation:\n",
    "\n",
    "https://numpy.org/\n",
    "\n",
    "![Numpy Logo](data:image/png;base64,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)"
   ]
  },
  {
   "cell_type": "code",
   "execution_count": 2,
   "metadata": {},
   "outputs": [],
   "source": [
    "a = 3\n",
    "b = 4"
   ]
  },
  {
   "cell_type": "code",
   "execution_count": 3,
   "metadata": {},
   "outputs": [],
   "source": [
    "c = a + b"
   ]
  },
  {
   "cell_type": "code",
   "execution_count": 4,
   "metadata": {},
   "outputs": [
    {
     "data": {
      "text/plain": [
       "18.0"
      ]
     },
     "execution_count": 4,
     "metadata": {},
     "output_type": "execute_result"
    }
   ],
   "source": [
    "c = a ** 2 * (b/2)\n",
    "c"
   ]
  },
  {
   "cell_type": "code",
   "execution_count": 5,
   "metadata": {},
   "outputs": [],
   "source": [
    "import random"
   ]
  },
  {
   "cell_type": "code",
   "execution_count": 6,
   "metadata": {},
   "outputs": [
    {
     "data": {
      "text/plain": [
       "<module 'random' from 'C:\\\\Users\\\\stephen\\\\.conda\\\\envs\\\\intro_python_ds_tutorial\\\\lib\\\\random.py'>"
      ]
     },
     "execution_count": 6,
     "metadata": {},
     "output_type": "execute_result"
    }
   ],
   "source": [
    "random"
   ]
  },
  {
   "cell_type": "code",
   "execution_count": 7,
   "metadata": {},
   "outputs": [
    {
     "data": {
      "text/plain": [
       "0.6336527907088325"
      ]
     },
     "execution_count": 7,
     "metadata": {},
     "output_type": "execute_result"
    }
   ],
   "source": [
    "random.random()"
   ]
  },
  {
   "cell_type": "code",
   "execution_count": 8,
   "metadata": {},
   "outputs": [],
   "source": [
    "num_values = 10"
   ]
  },
  {
   "cell_type": "markdown",
   "metadata": {},
   "source": [
    "## Comprehensions\n",
    "Comprehensions are an easy way to create list and dictionaries from an iterable. They are shorthand way to do repetition, and is more efficient than a normal loop."
   ]
  },
  {
   "cell_type": "code",
   "execution_count": 9,
   "metadata": {},
   "outputs": [],
   "source": [
    "old_list = []\n",
    "for i1 in range(num_values):\n",
    "    old_list += [random.random()]"
   ]
  },
  {
   "cell_type": "code",
   "execution_count": 10,
   "metadata": {},
   "outputs": [
    {
     "data": {
      "text/plain": [
       "[0.44501886107117694,\n",
       " 0.7269063035901264,\n",
       " 0.199005634353851,\n",
       " 0.7593507197760909,\n",
       " 0.38871704700726983,\n",
       " 0.8315783161542302,\n",
       " 0.28422146955102423,\n",
       " 0.10635956875527097,\n",
       " 0.7923837208592336,\n",
       " 0.5685146076806367]"
      ]
     },
     "execution_count": 10,
     "metadata": {},
     "output_type": "execute_result"
    }
   ],
   "source": [
    "old_list"
   ]
  },
  {
   "cell_type": "code",
   "execution_count": 11,
   "metadata": {},
   "outputs": [],
   "source": [
    "random_list = [random.random() * i1 for i1 in range(num_values)]"
   ]
  },
  {
   "cell_type": "code",
   "execution_count": 12,
   "metadata": {},
   "outputs": [
    {
     "data": {
      "text/plain": [
       "[0.0,\n",
       " 0.018839698191753684,\n",
       " 1.7348336578328751,\n",
       " 0.9638450911785291,\n",
       " 0.27206005053331284,\n",
       " 2.3059699793873047,\n",
       " 0.7734017146849841,\n",
       " 6.08960735921985,\n",
       " 1.022253018919998,\n",
       " 3.244265992559881]"
      ]
     },
     "execution_count": 12,
     "metadata": {},
     "output_type": "execute_result"
    }
   ],
   "source": [
    "random_list"
   ]
  },
  {
   "cell_type": "code",
   "execution_count": 13,
   "metadata": {},
   "outputs": [],
   "source": [
    "random_dict = {i1: random.random() * i1 for i1 in range(num_values)}"
   ]
  },
  {
   "cell_type": "code",
   "execution_count": 14,
   "metadata": {},
   "outputs": [
    {
     "data": {
      "text/plain": [
       "{0: 0.0,\n",
       " 1: 0.5040187793223974,\n",
       " 2: 1.6935811775969947,\n",
       " 3: 1.4663167837581976,\n",
       " 4: 1.132271836891785,\n",
       " 5: 4.657218509672053,\n",
       " 6: 2.7421279621885706,\n",
       " 7: 0.5324698342814159,\n",
       " 8: 2.0714345223166024,\n",
       " 9: 7.538570606405058}"
      ]
     },
     "execution_count": 14,
     "metadata": {},
     "output_type": "execute_result"
    }
   ],
   "source": [
    "random_dict"
   ]
  },
  {
   "cell_type": "markdown",
   "metadata": {},
   "source": [
    "## Perform operations on collection of data\n",
    "The core of data science is performing an operation efficiently on many items in a collection. This can be done with loops, comprehensions or other constructs"
   ]
  },
  {
   "cell_type": "markdown",
   "metadata": {},
   "source": [
    "## Apply an operation\n",
    "You may want to apply the same operation to each item and get the same number of items back as you input"
   ]
  },
  {
   "cell_type": "code",
   "execution_count": 15,
   "metadata": {},
   "outputs": [
    {
     "data": {
      "text/plain": [
       "[0.0,\n",
       " 0.03767939638350737,\n",
       " 3.4696673156657503,\n",
       " 1.9276901823570582,\n",
       " 0.5441201010666257,\n",
       " 4.6119399587746095,\n",
       " 1.5468034293699682,\n",
       " 12.1792147184397,\n",
       " 2.044506037839996,\n",
       " 6.488531985119762]"
      ]
     },
     "execution_count": 15,
     "metadata": {},
     "output_type": "execute_result"
    }
   ],
   "source": [
    "[2* val for val in random_list]"
   ]
  },
  {
   "cell_type": "code",
   "execution_count": 16,
   "metadata": {},
   "outputs": [
    {
     "data": {
      "text/plain": [
       "{0: 0.0,\n",
       " 1: 1.0080375586447947,\n",
       " 2: 3.3871623551939893,\n",
       " 3: 2.9326335675163953,\n",
       " 4: 2.26454367378357,\n",
       " 5: 9.314437019344107,\n",
       " 6: 5.484255924377141,\n",
       " 7: 1.0649396685628318,\n",
       " 8: 4.142869044633205,\n",
       " 9: 15.077141212810115}"
      ]
     },
     "execution_count": 16,
     "metadata": {},
     "output_type": "execute_result"
    }
   ],
   "source": [
    "{key1: 2 * val1 for key1, val1 in random_dict.items()}"
   ]
  },
  {
   "cell_type": "markdown",
   "metadata": {},
   "source": [
    "Another option is the map function. This applies a function to every item in a collection. This needs us to define a function. We can either do it explcitly or implictly using a lambda."
   ]
  },
  {
   "cell_type": "code",
   "execution_count": 17,
   "metadata": {},
   "outputs": [],
   "source": [
    "def double(x):\n",
    "    return 2 * x"
   ]
  },
  {
   "cell_type": "code",
   "execution_count": 18,
   "metadata": {},
   "outputs": [
    {
     "data": {
      "text/plain": [
       "<map at 0x2b35f9881f0>"
      ]
     },
     "execution_count": 18,
     "metadata": {},
     "output_type": "execute_result"
    }
   ],
   "source": [
    "map(double, random_list)"
   ]
  },
  {
   "cell_type": "code",
   "execution_count": 19,
   "metadata": {},
   "outputs": [
    {
     "data": {
      "text/plain": [
       "<map at 0x2b35fa8c0a0>"
      ]
     },
     "execution_count": 19,
     "metadata": {},
     "output_type": "execute_result"
    }
   ],
   "source": [
    "map(lambda x: 2* x, random_list)"
   ]
  },
  {
   "cell_type": "markdown",
   "metadata": {},
   "source": [
    "In python the operation is not evaluated until  the data is needed. So we get a *generator* object. It is a bit like an IOU, which says I'l, do the calculation when you actually need the result. This concept is called **lazy evaluation**. It is a key idea in python for data science, that we don't actually do the calculation immediately, rather we set up the calculation to do later. This has many advantages:\n",
    "\n",
    "* set up computing pipline interactively\n",
    "* send compute to other computing resource\n",
    "* run asynchronously, so other work can be done while waiting for results.\n",
    "* compute subsets \n",
    " * serial (resource management)\n",
    " * parallel (speed)\n",
    "\n",
    "https://wiki.python.org/moin/Generators"
   ]
  },
  {
   "cell_type": "markdown",
   "metadata": {},
   "source": [
    "We can force the calculation to happen by converting the generator to a list."
   ]
  },
  {
   "cell_type": "code",
   "execution_count": 20,
   "metadata": {},
   "outputs": [
    {
     "data": {
      "text/plain": [
       "[0.0,\n",
       " 0.03767939638350737,\n",
       " 3.4696673156657503,\n",
       " 1.9276901823570582,\n",
       " 0.5441201010666257,\n",
       " 4.6119399587746095,\n",
       " 1.5468034293699682,\n",
       " 12.1792147184397,\n",
       " 2.044506037839996,\n",
       " 6.488531985119762]"
      ]
     },
     "execution_count": 20,
     "metadata": {},
     "output_type": "execute_result"
    }
   ],
   "source": [
    "list(map(double, random_list))"
   ]
  },
  {
   "cell_type": "code",
   "execution_count": 23,
   "metadata": {},
   "outputs": [
    {
     "data": {
      "text/plain": [
       "[0.0,\n",
       " 0.03767939638350737,\n",
       " 3.4696673156657503,\n",
       " 1.9276901823570582,\n",
       " 0.5441201010666257,\n",
       " 4.6119399587746095,\n",
       " 1.5468034293699682,\n",
       " 12.1792147184397,\n",
       " 2.044506037839996,\n",
       " 6.488531985119762]"
      ]
     },
     "execution_count": 23,
     "metadata": {},
     "output_type": "execute_result"
    }
   ],
   "source": [
    "list(map(lambda x: 2* x, random_list))"
   ]
  },
  {
   "cell_type": "markdown",
   "metadata": {},
   "source": [
    "### Reductions\n",
    "Another typical operation is to combine values in some way, for example finding the average or max/min."
   ]
  },
  {
   "cell_type": "code",
   "execution_count": 24,
   "metadata": {},
   "outputs": [
    {
     "data": {
      "text/plain": [
       "6.08960735921985"
      ]
     },
     "execution_count": 24,
     "metadata": {},
     "output_type": "execute_result"
    }
   ],
   "source": [
    "max(random_list)"
   ]
  },
  {
   "cell_type": "code",
   "execution_count": 25,
   "metadata": {},
   "outputs": [
    {
     "data": {
      "text/plain": [
       "7.538570606405058"
      ]
     },
     "execution_count": 25,
     "metadata": {},
     "output_type": "execute_result"
    }
   ],
   "source": [
    "max(random_dict.values())"
   ]
  },
  {
   "cell_type": "code",
   "execution_count": 26,
   "metadata": {},
   "outputs": [
    {
     "data": {
      "text/plain": [
       "16.42507656250849"
      ]
     },
     "execution_count": 26,
     "metadata": {},
     "output_type": "execute_result"
    }
   ],
   "source": [
    "sum(random_list)"
   ]
  },
  {
   "cell_type": "code",
   "execution_count": 27,
   "metadata": {},
   "outputs": [
    {
     "data": {
      "text/plain": [
       "10"
      ]
     },
     "execution_count": 27,
     "metadata": {},
     "output_type": "execute_result"
    }
   ],
   "source": [
    "len(random_list)"
   ]
  },
  {
   "cell_type": "code",
   "execution_count": 28,
   "metadata": {},
   "outputs": [
    {
     "data": {
      "text/plain": [
       "1.642507656250849"
      ]
     },
     "execution_count": 28,
     "metadata": {},
     "output_type": "execute_result"
    }
   ],
   "source": [
    "sum(random_list) / len(random_list)"
   ]
  },
  {
   "cell_type": "markdown",
   "metadata": {},
   "source": [
    "## Numerical python with numpy\n",
    "Typically, substantial calculations will be done using a third-party library called **numpy** (a contraction of numerical python). This includes many common numberical operation, as well as important data structures for arrays and matrices.\n",
    "\n",
    "https://numpy.org/doc/\n",
    "\n",
    "## Gridded data\n",
    "Previously we have talked about tabular data with rows and columns. Another common form of data (especially in weather and climate) is gridded data. This is often seen where the data represents measrement over a map. In this case rows and columns are dimensions where the data is measured, for example latitude and longitude. Or it could be position in space in a simulation space (x,y,z). Each grid  could be one measurement, or time could be a dimension too. "
   ]
  },
  {
   "cell_type": "code",
   "execution_count": 29,
   "metadata": {},
   "outputs": [],
   "source": [
    "import numpy"
   ]
  },
  {
   "cell_type": "code",
   "execution_count": 30,
   "metadata": {},
   "outputs": [
    {
     "data": {
      "text/plain": [
       "array([[0.08479511, 0.51269456, 0.34312421, 0.97445798, 0.61053673],\n",
       "       [0.12314261, 0.04463423, 0.17365781, 0.12354435, 0.29453821],\n",
       "       [0.22342336, 0.99912816, 0.77721462, 0.27778129, 0.67109798],\n",
       "       [0.89168423, 0.94678849, 0.36421041, 0.71561609, 0.94407639],\n",
       "       [0.22916584, 0.25051336, 0.63011312, 0.57788062, 0.46681427],\n",
       "       [0.81658748, 0.68341742, 0.25767248, 0.6259969 , 0.88788952],\n",
       "       [0.34543885, 0.38807415, 0.80691769, 0.2019913 , 0.29560764],\n",
       "       [0.34817408, 0.37332259, 0.07467903, 0.27530991, 0.1790126 ],\n",
       "       [0.55248032, 0.91759115, 0.48034981, 0.83189913, 0.19239842],\n",
       "       [0.38902819, 0.92482993, 0.9506762 , 0.42035917, 0.33249237]])"
      ]
     },
     "execution_count": 30,
     "metadata": {},
     "output_type": "execute_result"
    }
   ],
   "source": [
    "rand_arr = numpy.random.random((10,5))\n",
    "rand_arr"
   ]
  },
  {
   "cell_type": "markdown",
   "metadata": {},
   "source": [
    "This provides easier arithmetic and additional mathematical functionality. Instead of iterating through each item in the collection, we treat the data as one item."
   ]
  },
  {
   "cell_type": "code",
   "execution_count": 31,
   "metadata": {},
   "outputs": [
    {
     "data": {
      "text/plain": [
       "array([[0.16959022, 1.02538912, 0.68624842, 1.94891596, 1.22107347],\n",
       "       [0.24628521, 0.08926846, 0.34731561, 0.24708871, 0.58907641],\n",
       "       [0.44684671, 1.99825632, 1.55442924, 0.55556258, 1.34219596],\n",
       "       [1.78336846, 1.89357697, 0.72842082, 1.43123218, 1.88815277],\n",
       "       [0.45833168, 0.50102671, 1.26022624, 1.15576125, 0.93362855],\n",
       "       [1.63317495, 1.36683484, 0.51534496, 1.2519938 , 1.77577903],\n",
       "       [0.6908777 , 0.77614829, 1.61383539, 0.40398259, 0.59121527],\n",
       "       [0.69634815, 0.74664518, 0.14935806, 0.55061982, 0.35802521],\n",
       "       [1.10496064, 1.8351823 , 0.96069961, 1.66379825, 0.38479684],\n",
       "       [0.77805637, 1.84965985, 1.9013524 , 0.84071834, 0.66498474]])"
      ]
     },
     "execution_count": 31,
     "metadata": {},
     "output_type": "execute_result"
    }
   ],
   "source": [
    "rand_arr * 2"
   ]
  },
  {
   "cell_type": "code",
   "execution_count": 32,
   "metadata": {},
   "outputs": [],
   "source": [
    "other_arr = numpy.random.random((10,5))"
   ]
  },
  {
   "cell_type": "code",
   "execution_count": 33,
   "metadata": {},
   "outputs": [
    {
     "data": {
      "text/plain": [
       "array([[0.10256616, 0.61387167, 0.54545475, 1.7194092 , 1.41085217],\n",
       "       [0.70814516, 0.98184459, 0.45112542, 0.34264506, 0.98623023],\n",
       "       [0.91317829, 1.2083458 , 1.74898281, 0.56532714, 1.06364538],\n",
       "       [1.24611367, 1.08002358, 0.36574655, 1.15508321, 1.15037062],\n",
       "       [1.00041331, 0.77322138, 1.20237206, 1.44127746, 0.86776257],\n",
       "       [0.98810847, 1.21059645, 0.44110846, 1.02483949, 1.42175039],\n",
       "       [0.77333985, 0.59712914, 0.95186648, 0.50654004, 1.10553925],\n",
       "       [0.38487932, 0.83039138, 0.35101713, 0.28700842, 1.1218045 ],\n",
       "       [0.89720152, 1.74599147, 1.33216581, 1.71860225, 0.30564175],\n",
       "       [0.90570627, 1.36453926, 1.81421946, 1.20418238, 0.58841218]])"
      ]
     },
     "execution_count": 33,
     "metadata": {},
     "output_type": "execute_result"
    }
   ],
   "source": [
    "rand_arr + other_arr"
   ]
  },
  {
   "cell_type": "markdown",
   "metadata": {},
   "source": [
    "We can reduce the whole array e.g. find the mean of the whole array, so reduce per row or column."
   ]
  },
  {
   "cell_type": "code",
   "execution_count": 34,
   "metadata": {},
   "outputs": [
    {
     "data": {
      "text/plain": [
       "0.9503317869894914"
      ]
     },
     "execution_count": 34,
     "metadata": {},
     "output_type": "execute_result"
    }
   ],
   "source": [
    "numpy.mean(rand_arr + other_arr)"
   ]
  },
  {
   "cell_type": "code",
   "execution_count": 35,
   "metadata": {},
   "outputs": [
    {
     "data": {
      "text/plain": [
       "array([0.7919652 , 1.04059547, 0.92040589, 0.99649146, 1.0022009 ])"
      ]
     },
     "execution_count": 35,
     "metadata": {},
     "output_type": "execute_result"
    }
   ],
   "source": [
    "numpy.mean(rand_arr + other_arr, axis=0)"
   ]
  },
  {
   "cell_type": "code",
   "execution_count": 36,
   "metadata": {},
   "outputs": [
    {
     "data": {
      "text/plain": [
       "array([0.87843079, 0.69399809, 1.09989589, 0.99946753, 1.05700935,\n",
       "       1.01728065, 0.78688295, 0.59502015, 1.19992056, 1.17541191])"
      ]
     },
     "execution_count": 36,
     "metadata": {},
     "output_type": "execute_result"
    }
   ],
   "source": [
    "numpy.mean(rand_arr + other_arr, axis=1)"
   ]
  },
  {
   "cell_type": "code",
   "execution_count": null,
   "metadata": {},
   "outputs": [],
   "source": [
    "numpy.std(rand_arr + other_arr)"
   ]
  },
  {
   "cell_type": "markdown",
   "metadata": {},
   "source": [
    "The other common numpy data structure is a matrix, which corrsponds to a mathematical matrix its operations. So rather than a mupltiplcation being element wise, it is proper matrix multiplication."
   ]
  },
  {
   "cell_type": "code",
   "execution_count": 37,
   "metadata": {},
   "outputs": [],
   "source": [
    "rand_arr1 = numpy.random.random((5,5))\n",
    "rand_mat1 = numpy.matrix(rand_arr1)\n",
    "rand_arr2 = numpy.random.random((5,5))\n",
    "rand_mat2 = numpy.matrix(rand_arr2)"
   ]
  },
  {
   "cell_type": "code",
   "execution_count": 38,
   "metadata": {},
   "outputs": [
    {
     "data": {
      "text/plain": [
       "array([[0.12259925, 0.98010799, 0.51957737, 0.43254498, 0.43939256],\n",
       "       [0.54149163, 0.4340161 , 0.63575677, 0.10896251, 0.06887109],\n",
       "       [0.64642117, 0.60862441, 0.58526178, 0.70210655, 0.21117597],\n",
       "       [0.42984754, 0.30887414, 0.9553311 , 0.68818234, 0.07811864],\n",
       "       [0.62624959, 0.32955122, 0.33538659, 0.83286642, 0.65009722]])"
      ]
     },
     "execution_count": 38,
     "metadata": {},
     "output_type": "execute_result"
    }
   ],
   "source": [
    "rand_arr1"
   ]
  },
  {
   "cell_type": "code",
   "execution_count": 39,
   "metadata": {},
   "outputs": [
    {
     "data": {
      "text/plain": [
       "array([[0.62388625, 0.8979798 , 0.45442599, 0.38026389, 0.87562993],\n",
       "       [0.78760757, 0.31873645, 0.34260437, 0.54427532, 0.99054956],\n",
       "       [0.22397074, 0.99135151, 0.18144296, 0.27786427, 0.13660449],\n",
       "       [0.64251168, 0.56812377, 0.78379373, 0.16343716, 0.30505832],\n",
       "       [0.76348237, 0.45040302, 0.74007008, 0.27634049, 0.6584758 ]])"
      ]
     },
     "execution_count": 39,
     "metadata": {},
     "output_type": "execute_result"
    }
   ],
   "source": [
    "rand_arr2"
   ]
  },
  {
   "cell_type": "code",
   "execution_count": 40,
   "metadata": {},
   "outputs": [
    {
     "data": {
      "text/plain": [
       "array([[0.07648798, 0.88011717, 0.23610946, 0.16448123, 0.38474528],\n",
       "       [0.42648291, 0.13833675, 0.21781305, 0.0593056 , 0.06822023],\n",
       "       [0.14477943, 0.60336073, 0.10619163, 0.19509032, 0.02884759],\n",
       "       [0.27618206, 0.17547874, 0.74878252, 0.11247456, 0.02383074],\n",
       "       [0.47813053, 0.14843086, 0.24820958, 0.23015471, 0.42807329]])"
      ]
     },
     "execution_count": 40,
     "metadata": {},
     "output_type": "execute_result"
    }
   ],
   "source": [
    "rand_arr1 * rand_arr2"
   ]
  },
  {
   "cell_type": "code",
   "execution_count": 41,
   "metadata": {},
   "outputs": [
    {
     "data": {
      "text/plain": [
       "0.0764879841098091"
      ]
     },
     "execution_count": 41,
     "metadata": {},
     "output_type": "execute_result"
    }
   ],
   "source": [
    "rand_arr1[0,0] * rand_arr2[0,0]"
   ]
  },
  {
   "cell_type": "code",
   "execution_count": 42,
   "metadata": {},
   "outputs": [
    {
     "data": {
      "text/plain": [
       "matrix([[1.57818225, 1.38121442, 1.14998255, 0.91655651, 1.57045452],\n",
       "        [0.94464601, 1.34776768, 0.64649084, 0.65562845, 1.06949783],\n",
       "        [1.62607278, 1.84866181, 1.31505132, 0.91279998, 1.60208547],\n",
       "        [1.22722119, 1.8576704 , 1.0716999 , 0.73108235, 1.07422002],\n",
       "        [1.75684649, 1.76586243, 1.59225629, 0.82646815, 1.60276114]])"
      ]
     },
     "execution_count": 42,
     "metadata": {},
     "output_type": "execute_result"
    }
   ],
   "source": [
    "rand_mat1 * rand_mat2"
   ]
  },
  {
   "cell_type": "code",
   "execution_count": 43,
   "metadata": {},
   "outputs": [
    {
     "data": {
      "text/plain": [
       "1.578182252008034"
      ]
     },
     "execution_count": 43,
     "metadata": {},
     "output_type": "execute_result"
    }
   ],
   "source": [
    "rand_mat1[0,0] * rand_mat2[0,0] + rand_mat1[0,1] * rand_mat2[1,0] + rand_mat1[0,2] * rand_mat2[2,0] + rand_mat1[0,3] * rand_mat2[3,0] + rand_mat1[0,4] * rand_mat2[4,0] "
   ]
  },
  {
   "cell_type": "markdown",
   "metadata": {},
   "source": [
    "### Gridded data - loading data with numpy\n",
    "These array and matrics we have looked are a basic form of **gridded data**. Numpy also provides facility to load and save the arrays."
   ]
  },
  {
   "cell_type": "code",
   "execution_count": 44,
   "metadata": {},
   "outputs": [],
   "source": [
    "temperature_over_area = numpy.load('temperature_array.npy')"
   ]
  },
  {
   "cell_type": "code",
   "execution_count": 45,
   "metadata": {},
   "outputs": [
    {
     "data": {
      "text/plain": [
       "array([[18.05090192, 20.66892923, 18.37048554, 20.91876376, 18.57018236,\n",
       "        18.44529363, 19.29508459, 19.29082912, 20.46986608, 20.94537239],\n",
       "       [18.95127915, 20.43983377, 19.47468056, 20.33069831, 20.37023327,\n",
       "        20.10496052, 19.02630103, 18.16851119, 19.34132244, 18.65887918],\n",
       "       [20.07716553, 20.88823731, 19.32669691, 18.92281521, 19.74691879,\n",
       "        20.28514086, 19.183739  , 18.49641599, 19.94639299, 18.8612542 ],\n",
       "       [18.32338158, 20.89380241, 18.7890516 , 18.66498427, 19.9782269 ,\n",
       "        19.6507164 , 20.44658416, 18.06508393, 18.03652572, 20.418911  ],\n",
       "       [19.57580613, 19.11774043, 20.18036861, 18.24386774, 18.31121294,\n",
       "        19.84890236, 18.71623467, 20.66135428, 19.8525222 , 19.92471281],\n",
       "       [19.85023776, 20.7555955 , 20.30495666, 18.36882182, 19.63473087,\n",
       "        20.07055492, 18.59296162, 20.9064832 , 19.02670594, 20.64855901],\n",
       "       [20.40251869, 18.32844241, 18.2162265 , 19.26700006, 19.15637431,\n",
       "        20.53333001, 20.19741219, 18.7243629 , 18.55270206, 19.82090858],\n",
       "       [20.78649461, 20.12936485, 19.40389177, 19.85106492, 20.72988722,\n",
       "        20.66100434, 20.92858647, 20.39885856, 20.91305342, 19.38342541],\n",
       "       [20.41693639, 20.28243806, 18.66687643, 19.63423801, 18.0738174 ,\n",
       "        19.0691236 , 20.73117224, 20.049675  , 18.26246182, 19.80921466],\n",
       "       [20.27717068, 20.00172616, 19.3266189 , 18.73201903, 18.63965013,\n",
       "        19.28938462, 19.53172843, 19.69977637, 18.65529935, 20.3662233 ]])"
      ]
     },
     "execution_count": 45,
     "metadata": {},
     "output_type": "execute_result"
    }
   ],
   "source": [
    "temperature_over_area"
   ]
  },
  {
   "cell_type": "markdown",
   "metadata": {},
   "source": [
    "We have successfully loaded in our data, but we don't anything about it. What area is this? When was the measurement taken? What is unit, Celsuis, Fahrenheit or another? We will think about this further in the section on Data Models."
   ]
  },
  {
   "cell_type": "markdown",
   "metadata": {},
   "source": [
    "We can see here how numpy allows us to take a higher-level view of the data compared to manipulating the data directly with manual python code, abtract away some of the implementation  details. We will continue to  develop theme of higher-level objects with more abtraction. "
   ]
  }
 ],
 "metadata": {
  "kernelspec": {
   "display_name": "Python 3",
   "language": "python",
   "name": "python3"
  },
  "language_info": {
   "codemirror_mode": {
    "name": "ipython",
    "version": 3
   },
   "file_extension": ".py",
   "mimetype": "text/x-python",
   "name": "python",
   "nbconvert_exporter": "python",
   "pygments_lexer": "ipython3",
   "version": "3.8.6"
  }
 },
 "nbformat": 4,
 "nbformat_minor": 4
}
