{
 "cells": [
  {
   "cell_type": "markdown",
   "metadata": {},
   "source": [
    "# Python maths and stats - numpy\n",
    "\n",
    "Now that we have some data in a structure, we may want to do something with it. In this part we will look at some maths and stats operations, both in basic python, but also using a third-party library numpy, which is considered almost part of standard python for scientific applications. Numpy provides far more functionality that I can describe here, but the core is structures and functions for handling and exploiting numerical data.\n",
    "\n",
    "Documentation:\n",
    "\n",
    "https://numpy.org/\n",
    "\n",
    "![Numpy Logo](data:image/png;base64,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)"
   ]
  },
  {
   "cell_type": "code",
   "execution_count": 1,
   "metadata": {},
   "outputs": [],
   "source": [
    "a = 3\n",
    "b = 4"
   ]
  },
  {
   "cell_type": "code",
   "execution_count": 2,
   "metadata": {},
   "outputs": [],
   "source": [
    "c = a + b"
   ]
  },
  {
   "cell_type": "code",
   "execution_count": 3,
   "metadata": {},
   "outputs": [
    {
     "data": {
      "text/plain": [
       "18.0"
      ]
     },
     "execution_count": 3,
     "metadata": {},
     "output_type": "execute_result"
    }
   ],
   "source": [
    "c = a ** 2 * (b/2)\n",
    "c"
   ]
  },
  {
   "cell_type": "code",
   "execution_count": 4,
   "metadata": {},
   "outputs": [],
   "source": [
    "import random"
   ]
  },
  {
   "cell_type": "code",
   "execution_count": 5,
   "metadata": {},
   "outputs": [
    {
     "data": {
      "text/plain": [
       "<module 'random' from 'C:\\\\Users\\\\stephen\\\\.conda\\\\envs\\\\intro_python_ds_tutorial\\\\lib\\\\random.py'>"
      ]
     },
     "execution_count": 5,
     "metadata": {},
     "output_type": "execute_result"
    }
   ],
   "source": [
    "random"
   ]
  },
  {
   "cell_type": "code",
   "execution_count": 6,
   "metadata": {},
   "outputs": [
    {
     "data": {
      "text/plain": [
       "0.5127442579218785"
      ]
     },
     "execution_count": 6,
     "metadata": {},
     "output_type": "execute_result"
    }
   ],
   "source": [
    "random.random()"
   ]
  },
  {
   "cell_type": "code",
   "execution_count": 7,
   "metadata": {},
   "outputs": [],
   "source": [
    "num_values = 10"
   ]
  },
  {
   "cell_type": "markdown",
   "metadata": {},
   "source": [
    "## Comprehensions\n",
    "Comprehensions are an easy way to create list and dictionaries from an iterable. They are shorthand way to do repetition, and is more efficient than a normal loop."
   ]
  },
  {
   "cell_type": "code",
   "execution_count": 8,
   "metadata": {},
   "outputs": [],
   "source": [
    "random_list = [random.random() * i1 for i1 in range(num_values)]"
   ]
  },
  {
   "cell_type": "code",
   "execution_count": 9,
   "metadata": {},
   "outputs": [
    {
     "data": {
      "text/plain": [
       "[0.0,\n",
       " 0.27656162076139557,\n",
       " 1.555290005186286,\n",
       " 0.4067300026330205,\n",
       " 1.5259150817205231,\n",
       " 3.7478723337376314,\n",
       " 5.808761261455558,\n",
       " 6.027315037231092,\n",
       " 6.575013711869183,\n",
       " 8.975588227609583]"
      ]
     },
     "execution_count": 9,
     "metadata": {},
     "output_type": "execute_result"
    }
   ],
   "source": [
    "random_list"
   ]
  },
  {
   "cell_type": "code",
   "execution_count": 10,
   "metadata": {},
   "outputs": [],
   "source": [
    "random_dict = {i1: random.random() * i1 for i1 in range(num_values)}"
   ]
  },
  {
   "cell_type": "code",
   "execution_count": 11,
   "metadata": {},
   "outputs": [
    {
     "data": {
      "text/plain": [
       "{0: 0.0,\n",
       " 1: 0.7598811602591529,\n",
       " 2: 1.1569723866259747,\n",
       " 3: 0.9556058966694111,\n",
       " 4: 2.8557956151243196,\n",
       " 5: 3.023510879928982,\n",
       " 6: 5.269085491107559,\n",
       " 7: 0.8622333923593481,\n",
       " 8: 5.576727697597508,\n",
       " 9: 7.205202450245057}"
      ]
     },
     "execution_count": 11,
     "metadata": {},
     "output_type": "execute_result"
    }
   ],
   "source": [
    "random_dict"
   ]
  },
  {
   "cell_type": "markdown",
   "metadata": {},
   "source": [
    "## Perform operations on collection of data\n",
    "The core of data science is performing an operation efficiently on many items in a collection. This can be done with loops, comprehensions or other constructs"
   ]
  },
  {
   "cell_type": "markdown",
   "metadata": {},
   "source": [
    "## Apply an operation\n",
    "You may want to apply the same operation to each item and get the same number of items back as you input"
   ]
  },
  {
   "cell_type": "code",
   "execution_count": 12,
   "metadata": {},
   "outputs": [
    {
     "data": {
      "text/plain": [
       "[0.0,\n",
       " 0.5531232415227911,\n",
       " 3.110580010372572,\n",
       " 0.813460005266041,\n",
       " 3.0518301634410463,\n",
       " 7.495744667475263,\n",
       " 11.617522522911116,\n",
       " 12.054630074462183,\n",
       " 13.150027423738367,\n",
       " 17.951176455219166]"
      ]
     },
     "execution_count": 12,
     "metadata": {},
     "output_type": "execute_result"
    }
   ],
   "source": [
    "[2* val for val in random_list]"
   ]
  },
  {
   "cell_type": "code",
   "execution_count": 13,
   "metadata": {},
   "outputs": [
    {
     "data": {
      "text/plain": [
       "{0: 0.0,\n",
       " 1: 1.5197623205183057,\n",
       " 2: 2.3139447732519494,\n",
       " 3: 1.9112117933388222,\n",
       " 4: 5.711591230248639,\n",
       " 5: 6.047021759857964,\n",
       " 6: 10.538170982215117,\n",
       " 7: 1.7244667847186963,\n",
       " 8: 11.153455395195015,\n",
       " 9: 14.410404900490114}"
      ]
     },
     "execution_count": 13,
     "metadata": {},
     "output_type": "execute_result"
    }
   ],
   "source": [
    "{key1: 2 * val1 for key1, val1 in random_dict.items()}"
   ]
  },
  {
   "cell_type": "markdown",
   "metadata": {},
   "source": [
    "Another option is the map function. This applies a function to every item in a collection. This needs us to define a function. We can either do it explcitly or implictly using a lambda."
   ]
  },
  {
   "cell_type": "code",
   "execution_count": 14,
   "metadata": {},
   "outputs": [],
   "source": [
    "def double(x):\n",
    "    return 2 * x"
   ]
  },
  {
   "cell_type": "code",
   "execution_count": 15,
   "metadata": {},
   "outputs": [
    {
     "data": {
      "text/plain": [
       "<map at 0x2098d8a3250>"
      ]
     },
     "execution_count": 15,
     "metadata": {},
     "output_type": "execute_result"
    }
   ],
   "source": [
    "map(double, random_list)"
   ]
  },
  {
   "cell_type": "code",
   "execution_count": 16,
   "metadata": {},
   "outputs": [
    {
     "data": {
      "text/plain": [
       "<map at 0x2098d8a38e0>"
      ]
     },
     "execution_count": 16,
     "metadata": {},
     "output_type": "execute_result"
    }
   ],
   "source": [
    "map(lambda x: 2* x, random_list)"
   ]
  },
  {
   "cell_type": "markdown",
   "metadata": {},
   "source": [
    "In python the operation is not evaluated until  the data is needed. So we get a *generator* object. It is a bit like an IOU, which says I'l, do the calculation when you actually need the result. This concept is called **lazy evaluation**. It is a key idea in python for data science, that we don't actually do the calculation immediately, rather we set up the calculation to do later. This has many advantages:\n",
    "\n",
    "* set up computing pipline interactively\n",
    "* send compute to other computing resource\n",
    "* run asynchronously, so other work can be done while waiting for results.\n",
    "* compute subsets \n",
    " * serial (resource management)\n",
    " * parallel (speed)\n",
    "\n",
    "https://wiki.python.org/moin/Generators"
   ]
  },
  {
   "cell_type": "markdown",
   "metadata": {},
   "source": [
    "We can force the calculation to happen by converting the generator to a list."
   ]
  },
  {
   "cell_type": "code",
   "execution_count": 17,
   "metadata": {},
   "outputs": [
    {
     "data": {
      "text/plain": [
       "[0.0,\n",
       " 0.5531232415227911,\n",
       " 3.110580010372572,\n",
       " 0.813460005266041,\n",
       " 3.0518301634410463,\n",
       " 7.495744667475263,\n",
       " 11.617522522911116,\n",
       " 12.054630074462183,\n",
       " 13.150027423738367,\n",
       " 17.951176455219166]"
      ]
     },
     "execution_count": 17,
     "metadata": {},
     "output_type": "execute_result"
    }
   ],
   "source": [
    "list(map(double, random_list))"
   ]
  },
  {
   "cell_type": "code",
   "execution_count": 18,
   "metadata": {},
   "outputs": [
    {
     "data": {
      "text/plain": [
       "[0.0,\n",
       " 0.5531232415227911,\n",
       " 3.110580010372572,\n",
       " 0.813460005266041,\n",
       " 3.0518301634410463,\n",
       " 7.495744667475263,\n",
       " 11.617522522911116,\n",
       " 12.054630074462183,\n",
       " 13.150027423738367,\n",
       " 17.951176455219166]"
      ]
     },
     "execution_count": 18,
     "metadata": {},
     "output_type": "execute_result"
    }
   ],
   "source": [
    "list(map(lambda x: 2* x, random_list))"
   ]
  },
  {
   "cell_type": "markdown",
   "metadata": {},
   "source": [
    "### Reductions\n",
    "Another typical operation is to combine values in some way, for example finding the average or max/min."
   ]
  },
  {
   "cell_type": "code",
   "execution_count": 19,
   "metadata": {},
   "outputs": [
    {
     "data": {
      "text/plain": [
       "8.975588227609583"
      ]
     },
     "execution_count": 19,
     "metadata": {},
     "output_type": "execute_result"
    }
   ],
   "source": [
    "max(random_list)"
   ]
  },
  {
   "cell_type": "code",
   "execution_count": 20,
   "metadata": {},
   "outputs": [
    {
     "data": {
      "text/plain": [
       "7.205202450245057"
      ]
     },
     "execution_count": 20,
     "metadata": {},
     "output_type": "execute_result"
    }
   ],
   "source": [
    "max(random_dict.values())"
   ]
  },
  {
   "cell_type": "code",
   "execution_count": 21,
   "metadata": {},
   "outputs": [
    {
     "data": {
      "text/plain": [
       "34.89904728220427"
      ]
     },
     "execution_count": 21,
     "metadata": {},
     "output_type": "execute_result"
    }
   ],
   "source": [
    "sum(random_list)"
   ]
  },
  {
   "cell_type": "code",
   "execution_count": 22,
   "metadata": {},
   "outputs": [
    {
     "data": {
      "text/plain": [
       "10"
      ]
     },
     "execution_count": 22,
     "metadata": {},
     "output_type": "execute_result"
    }
   ],
   "source": [
    "len(random_list)"
   ]
  },
  {
   "cell_type": "code",
   "execution_count": 23,
   "metadata": {},
   "outputs": [
    {
     "data": {
      "text/plain": [
       "3.489904728220427"
      ]
     },
     "execution_count": 23,
     "metadata": {},
     "output_type": "execute_result"
    }
   ],
   "source": [
    "sum(random_list) / len(random_list)"
   ]
  },
  {
   "cell_type": "markdown",
   "metadata": {},
   "source": [
    "## Numerical python with numpy\n",
    "Typically, substantial calculations will be done using a third-party library called **numpy** (a contraction of numerical python). This includes many common numberical operation, as well as important data structures for arrays and matrices.\n",
    "\n",
    "https://numpy.org/doc/\n",
    "\n",
    "## Gridded data\n",
    "Previously we have talked about tabular data with rows and columns. Another common form of data (especially in weather and climate) is gridded data. This is often seen where the data represents measrement over a map. In this case rows and columns are dimensions where the data is measure, for example latitude and longitude. Or it could be position in space in a simulation space (x,y,z). Each grid  could be one measurement, or time could be a dimension too. "
   ]
  },
  {
   "cell_type": "code",
   "execution_count": 24,
   "metadata": {},
   "outputs": [],
   "source": [
    "import numpy"
   ]
  },
  {
   "cell_type": "code",
   "execution_count": 25,
   "metadata": {},
   "outputs": [
    {
     "data": {
      "text/plain": [
       "array([[0.38529346, 0.17207966, 0.26811007, 0.7640075 , 0.40235299],\n",
       "       [0.28215448, 0.47445763, 0.13164202, 0.58931673, 0.94498189],\n",
       "       [0.96026612, 0.16054158, 0.42735782, 0.09761963, 0.34004285],\n",
       "       [0.01270372, 0.95097129, 0.78416865, 0.05105645, 0.11360758],\n",
       "       [0.00855703, 0.21907549, 0.03235627, 0.05177158, 0.23896365],\n",
       "       [0.56336454, 0.38948775, 0.64622681, 0.66286031, 0.89321972],\n",
       "       [0.75657993, 0.43530325, 0.11828597, 0.77413899, 0.80313478],\n",
       "       [0.36464234, 0.18854218, 0.20384893, 0.24240324, 0.73231684],\n",
       "       [0.39220021, 0.78873018, 0.25036892, 0.19593394, 0.56221523],\n",
       "       [0.89498223, 0.11677707, 0.52079854, 0.2881676 , 0.2271642 ]])"
      ]
     },
     "execution_count": 25,
     "metadata": {},
     "output_type": "execute_result"
    }
   ],
   "source": [
    "rand_arr = numpy.random.random((10,5))\n",
    "rand_arr"
   ]
  },
  {
   "cell_type": "markdown",
   "metadata": {},
   "source": [
    "This provides easier arithmetic and additional mathematical functionality. Instead of iterating through each item in the collection, we treat the data as one item."
   ]
  },
  {
   "cell_type": "code",
   "execution_count": 26,
   "metadata": {},
   "outputs": [
    {
     "data": {
      "text/plain": [
       "array([[0.77058691, 0.34415932, 0.53622013, 1.52801501, 0.80470597],\n",
       "       [0.56430896, 0.94891526, 0.26328404, 1.17863347, 1.88996379],\n",
       "       [1.92053225, 0.32108316, 0.85471564, 0.19523926, 0.68008569],\n",
       "       [0.02540744, 1.90194259, 1.5683373 , 0.10211291, 0.22721515],\n",
       "       [0.01711407, 0.43815098, 0.06471254, 0.10354316, 0.4779273 ],\n",
       "       [1.12672908, 0.7789755 , 1.29245361, 1.32572062, 1.78643945],\n",
       "       [1.51315986, 0.87060651, 0.23657194, 1.54827799, 1.60626956],\n",
       "       [0.72928468, 0.37708436, 0.40769786, 0.48480648, 1.46463367],\n",
       "       [0.78440043, 1.57746036, 0.50073784, 0.39186787, 1.12443047],\n",
       "       [1.78996446, 0.23355414, 1.04159708, 0.5763352 , 0.45432841]])"
      ]
     },
     "execution_count": 26,
     "metadata": {},
     "output_type": "execute_result"
    }
   ],
   "source": [
    "rand_arr * 2"
   ]
  },
  {
   "cell_type": "code",
   "execution_count": 27,
   "metadata": {},
   "outputs": [],
   "source": [
    "other_arr = numpy.random.random((10,5))"
   ]
  },
  {
   "cell_type": "code",
   "execution_count": 28,
   "metadata": {},
   "outputs": [
    {
     "data": {
      "text/plain": [
       "array([[1.29236722, 0.55518028, 1.15897855, 1.24511034, 1.20399314],\n",
       "       [1.02340303, 1.36173324, 0.22437072, 1.56542836, 1.36620284],\n",
       "       [1.29977695, 0.73059903, 1.15356083, 0.11025146, 1.08322543],\n",
       "       [0.98914   , 1.1362047 , 1.51357963, 0.15204972, 0.43390446],\n",
       "       [0.2716278 , 0.96741457, 0.35148358, 0.95557385, 0.71797957],\n",
       "       [1.07538269, 0.44040847, 1.10371598, 1.18431565, 1.50855481],\n",
       "       [0.76419623, 1.21381445, 0.24698663, 1.43513996, 1.28463275],\n",
       "       [0.75174196, 0.51443895, 0.72163713, 0.90778751, 1.71354813],\n",
       "       [1.04584025, 0.99341468, 0.6730051 , 0.50730225, 0.81664862],\n",
       "       [1.70649745, 0.61541698, 1.06372415, 0.60226714, 0.65815605]])"
      ]
     },
     "execution_count": 28,
     "metadata": {},
     "output_type": "execute_result"
    }
   ],
   "source": [
    "rand_arr + other_arr"
   ]
  },
  {
   "cell_type": "markdown",
   "metadata": {},
   "source": [
    "We can reduce the whole array e.g. find the mean of the whole array, so reduce per row or column."
   ]
  },
  {
   "cell_type": "code",
   "execution_count": 29,
   "metadata": {},
   "outputs": [
    {
     "data": {
      "text/plain": [
       "0.9282342660543573"
      ]
     },
     "execution_count": 29,
     "metadata": {},
     "output_type": "execute_result"
    }
   ],
   "source": [
    "numpy.mean(rand_arr + other_arr)"
   ]
  },
  {
   "cell_type": "markdown",
   "metadata": {},
   "source": [
    "numpy.mean(rand_arr + other_arr, axis=0)"
   ]
  },
  {
   "cell_type": "code",
   "execution_count": 30,
   "metadata": {},
   "outputs": [
    {
     "data": {
      "text/plain": [
       "array([1.09112591, 1.10822764, 0.87548274, 0.8449757 , 0.65281588,\n",
       "       1.06247552, 0.988954  , 0.92183074, 0.80724218, 0.92921235])"
      ]
     },
     "execution_count": 30,
     "metadata": {},
     "output_type": "execute_result"
    }
   ],
   "source": [
    "numpy.mean(rand_arr + other_arr, axis=1)"
   ]
  },
  {
   "cell_type": "code",
   "execution_count": 31,
   "metadata": {},
   "outputs": [
    {
     "data": {
      "text/plain": [
       "0.4109701955442424"
      ]
     },
     "execution_count": 31,
     "metadata": {},
     "output_type": "execute_result"
    }
   ],
   "source": [
    "numpy.std(rand_arr + other_arr)"
   ]
  },
  {
   "cell_type": "markdown",
   "metadata": {},
   "source": [
    "The other common numpy data structure is a matrix, which corrsponds to a mathematical matrix its operations. So rather than a mupltiplcation being element wise, it is proper matrix multiplication."
   ]
  },
  {
   "cell_type": "code",
   "execution_count": 32,
   "metadata": {},
   "outputs": [],
   "source": [
    "rand_arr1 = numpy.random.random((5,5))\n",
    "rand_mat1 = numpy.matrix(rand_arr1)\n",
    "rand_arr2 = numpy.random.random((5,5))\n",
    "rand_mat2 = numpy.matrix(rand_arr2)"
   ]
  },
  {
   "cell_type": "code",
   "execution_count": 33,
   "metadata": {},
   "outputs": [
    {
     "data": {
      "text/plain": [
       "array([[0.9933479 , 0.66446217, 0.30676028, 0.5724217 , 0.65086096],\n",
       "       [0.58738647, 0.84783891, 0.65543838, 0.78891898, 0.55069524],\n",
       "       [0.25979034, 0.75244174, 0.04529861, 0.61799137, 0.12171231],\n",
       "       [0.16355963, 0.31805773, 0.44370742, 0.15693278, 0.12994745],\n",
       "       [0.18725996, 0.81220404, 0.54194817, 0.42919128, 0.84530552]])"
      ]
     },
     "execution_count": 33,
     "metadata": {},
     "output_type": "execute_result"
    }
   ],
   "source": [
    "rand_arr1"
   ]
  },
  {
   "cell_type": "code",
   "execution_count": 34,
   "metadata": {},
   "outputs": [
    {
     "data": {
      "text/plain": [
       "array([[0.72777969, 0.81267528, 0.88009863, 0.644517  , 0.61242872],\n",
       "       [0.34460083, 0.12792496, 0.63688014, 0.15187894, 0.65286674],\n",
       "       [0.39213522, 0.66850641, 0.02750543, 0.6540005 , 0.91900486],\n",
       "       [0.83357167, 0.15027284, 0.64657252, 0.30233613, 0.94815017],\n",
       "       [0.15111655, 0.92316406, 0.76169527, 0.72864105, 0.57350934]])"
      ]
     },
     "execution_count": 34,
     "metadata": {},
     "output_type": "execute_result"
    }
   ],
   "source": [
    "rand_arr2"
   ]
  },
  {
   "cell_type": "code",
   "execution_count": 35,
   "metadata": {},
   "outputs": [
    {
     "data": {
      "text/plain": [
       "array([[0.72293842, 0.53999199, 0.2699793 , 0.36893551, 0.39860595],\n",
       "       [0.20241387, 0.10845976, 0.41743569, 0.11982017, 0.3595306 ],\n",
       "       [0.10187294, 0.50301213, 0.00124596, 0.40416667, 0.1118542 ],\n",
       "       [0.13633868, 0.04779544, 0.28688903, 0.04744645, 0.12320969],\n",
       "       [0.02829808, 0.74979758, 0.41279936, 0.31272639, 0.48479061]])"
      ]
     },
     "execution_count": 35,
     "metadata": {},
     "output_type": "execute_result"
    }
   ],
   "source": [
    "rand_arr1 * rand_arr2"
   ]
  },
  {
   "cell_type": "code",
   "execution_count": 36,
   "metadata": {},
   "outputs": [
    {
     "data": {
      "text/plain": [
       "0.722938423749055"
      ]
     },
     "execution_count": 36,
     "metadata": {},
     "output_type": "execute_result"
    }
   ],
   "source": [
    "rand_arr1[0,0] * rand_arr2[0,0]"
   ]
  },
  {
   "cell_type": "code",
   "execution_count": 37,
   "metadata": {},
   "outputs": [
    {
     "data": {
      "text/plain": [
       "matrix([[1.64771453, 1.78421267, 2.17173432, 1.58907657, 2.24009079],\n",
       "        [1.71751409, 1.65091413, 2.0045132 , 1.57578434, 2.57945175],\n",
       "        [0.99965821, 0.54289142, 1.20138621, 0.58687036, 1.34772867],\n",
       "        [0.55308358, 0.61377519, 0.5591664 , 0.5860396 , 0.93890913],\n",
       "        [1.11418851, 1.46323   , 1.61835888, 1.34416763, 2.03472579]])"
      ]
     },
     "execution_count": 37,
     "metadata": {},
     "output_type": "execute_result"
    }
   ],
   "source": [
    "rand_mat1 * rand_mat2"
   ]
  },
  {
   "cell_type": "code",
   "execution_count": 38,
   "metadata": {},
   "outputs": [
    {
     "data": {
      "text/plain": [
       "1.6477145289013042"
      ]
     },
     "execution_count": 38,
     "metadata": {},
     "output_type": "execute_result"
    }
   ],
   "source": [
    "rand_mat1[0,0] * rand_mat2[0,0] + rand_mat1[0,1] * rand_mat2[1,0] + rand_mat1[0,2] * rand_mat2[2,0] + rand_mat1[0,3] * rand_mat2[3,0] + rand_mat1[0,4] * rand_mat2[4,0] "
   ]
  },
  {
   "cell_type": "markdown",
   "metadata": {},
   "source": [
    "### Gridded data - loading data with numpy\n",
    "These array and matrics we have looked are a basic form of **gridded data**. Numpy also provides facility to load and save the arrays."
   ]
  },
  {
   "cell_type": "code",
   "execution_count": 39,
   "metadata": {},
   "outputs": [],
   "source": [
    "temperature_over_area = numpy.load('temperature_array.npy')"
   ]
  },
  {
   "cell_type": "code",
   "execution_count": 40,
   "metadata": {},
   "outputs": [
    {
     "data": {
      "text/plain": [
       "array([[18.05090192, 20.66892923, 18.37048554, 20.91876376, 18.57018236,\n",
       "        18.44529363, 19.29508459, 19.29082912, 20.46986608, 20.94537239],\n",
       "       [18.95127915, 20.43983377, 19.47468056, 20.33069831, 20.37023327,\n",
       "        20.10496052, 19.02630103, 18.16851119, 19.34132244, 18.65887918],\n",
       "       [20.07716553, 20.88823731, 19.32669691, 18.92281521, 19.74691879,\n",
       "        20.28514086, 19.183739  , 18.49641599, 19.94639299, 18.8612542 ],\n",
       "       [18.32338158, 20.89380241, 18.7890516 , 18.66498427, 19.9782269 ,\n",
       "        19.6507164 , 20.44658416, 18.06508393, 18.03652572, 20.418911  ],\n",
       "       [19.57580613, 19.11774043, 20.18036861, 18.24386774, 18.31121294,\n",
       "        19.84890236, 18.71623467, 20.66135428, 19.8525222 , 19.92471281],\n",
       "       [19.85023776, 20.7555955 , 20.30495666, 18.36882182, 19.63473087,\n",
       "        20.07055492, 18.59296162, 20.9064832 , 19.02670594, 20.64855901],\n",
       "       [20.40251869, 18.32844241, 18.2162265 , 19.26700006, 19.15637431,\n",
       "        20.53333001, 20.19741219, 18.7243629 , 18.55270206, 19.82090858],\n",
       "       [20.78649461, 20.12936485, 19.40389177, 19.85106492, 20.72988722,\n",
       "        20.66100434, 20.92858647, 20.39885856, 20.91305342, 19.38342541],\n",
       "       [20.41693639, 20.28243806, 18.66687643, 19.63423801, 18.0738174 ,\n",
       "        19.0691236 , 20.73117224, 20.049675  , 18.26246182, 19.80921466],\n",
       "       [20.27717068, 20.00172616, 19.3266189 , 18.73201903, 18.63965013,\n",
       "        19.28938462, 19.53172843, 19.69977637, 18.65529935, 20.3662233 ]])"
      ]
     },
     "execution_count": 40,
     "metadata": {},
     "output_type": "execute_result"
    }
   ],
   "source": [
    "temperature_over_area"
   ]
  },
  {
   "cell_type": "markdown",
   "metadata": {},
   "source": [
    "We have successfully loaded in our data, but we don't anything about it. What area is this? When was the measurement taken? What is unit, Celsuis, Fahrenheit or another? We will think about this further in the section on Data Models."
   ]
  },
  {
   "cell_type": "markdown",
   "metadata": {},
   "source": [
    "We can see here how numpy allows us to take a higher-level view of the data compared to manipulating the data directly with manual python code, abtract away some of the implementation  details. We will continue to  develop theme of higher-level objects with more abtraction. "
   ]
  }
 ],
 "metadata": {
  "kernelspec": {
   "display_name": "Python 3",
   "language": "python",
   "name": "python3"
  },
  "language_info": {
   "codemirror_mode": {
    "name": "ipython",
    "version": 3
   },
   "file_extension": ".py",
   "mimetype": "text/x-python",
   "name": "python",
   "nbconvert_exporter": "python",
   "pygments_lexer": "ipython3",
   "version": "3.8.6"
  }
 },
 "nbformat": 4,
 "nbformat_minor": 4
}
