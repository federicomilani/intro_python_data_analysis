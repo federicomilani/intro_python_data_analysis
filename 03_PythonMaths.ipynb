{
 "cells": [
  {
   "cell_type": "markdown",
   "metadata": {},
   "source": [
    "# Python maths and stats - numpy\n",
    "\n",
    "Now that we have some data in a structure, we may want to do something with it. In this part we will look at some maths and stats operations, both in basic python, but also using a third-party library numpy, which is considered almost part of standard python for scientific applications. Numpy provides far more functionality that I can describe here, but the core is structures and functions for handling and exploiting numerical data.\n",
    "\n",
    "Documentation:\n",
    "\n",
    "https://numpy.org/\n",
    "\n",
    "![Numpy Logo](data:image/png;base64,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)"
   ]
  },
  {
   "cell_type": "code",
   "execution_count": 1,
   "metadata": {},
   "outputs": [],
   "source": [
    "a = 3\n",
    "b = 4"
   ]
  },
  {
   "cell_type": "code",
   "execution_count": 2,
   "metadata": {},
   "outputs": [],
   "source": [
    "c = a + b"
   ]
  },
  {
   "cell_type": "code",
   "execution_count": 3,
   "metadata": {},
   "outputs": [
    {
     "data": {
      "text/plain": [
       "18.0"
      ]
     },
     "execution_count": 3,
     "metadata": {},
     "output_type": "execute_result"
    }
   ],
   "source": [
    "c = a ** 2 * (b/2)\n",
    "c"
   ]
  },
  {
   "cell_type": "code",
   "execution_count": 4,
   "metadata": {},
   "outputs": [],
   "source": [
    "import random"
   ]
  },
  {
   "cell_type": "code",
   "execution_count": 5,
   "metadata": {},
   "outputs": [
    {
     "data": {
      "text/plain": [
       "<module 'random' from 'C:\\\\ProgramData\\\\Anaconda3\\\\lib\\\\random.py'>"
      ]
     },
     "execution_count": 5,
     "metadata": {},
     "output_type": "execute_result"
    }
   ],
   "source": [
    "random"
   ]
  },
  {
   "cell_type": "code",
   "execution_count": 6,
   "metadata": {},
   "outputs": [
    {
     "data": {
      "text/plain": [
       "0.36559555934483445"
      ]
     },
     "execution_count": 6,
     "metadata": {},
     "output_type": "execute_result"
    }
   ],
   "source": [
    "random.random()"
   ]
  },
  {
   "cell_type": "code",
   "execution_count": 7,
   "metadata": {},
   "outputs": [],
   "source": [
    "num_values = 10"
   ]
  },
  {
   "cell_type": "markdown",
   "metadata": {},
   "source": [
    "## Comprehensions\n",
    "Comprehensions are an easy qway to create list and dictionaries from an iterable. They are shorthand way to do repetition, and is more efficient than a normal loop."
   ]
  },
  {
   "cell_type": "code",
   "execution_count": 8,
   "metadata": {},
   "outputs": [],
   "source": [
    "random_list = [random.random() for i1 in range(num_values)]"
   ]
  },
  {
   "cell_type": "code",
   "execution_count": 9,
   "metadata": {},
   "outputs": [
    {
     "data": {
      "text/plain": [
       "[0.6309054579417767,\n",
       " 0.28478341294169784,\n",
       " 0.009142948484155866,\n",
       " 0.4025879576457523,\n",
       " 0.9260646134745819,\n",
       " 0.8267937577377555,\n",
       " 0.9647485086416749,\n",
       " 0.1417598513606647,\n",
       " 0.3781029804389202,\n",
       " 0.417020122990583]"
      ]
     },
     "execution_count": 9,
     "metadata": {},
     "output_type": "execute_result"
    }
   ],
   "source": [
    "random_list"
   ]
  },
  {
   "cell_type": "code",
   "execution_count": 10,
   "metadata": {},
   "outputs": [],
   "source": [
    "random_dict = {i1: random.random() for i1 in range(num_values)}"
   ]
  },
  {
   "cell_type": "code",
   "execution_count": 11,
   "metadata": {},
   "outputs": [
    {
     "data": {
      "text/plain": [
       "{0: 0.9208896409707683,\n",
       " 1: 0.9019625660686523,\n",
       " 2: 0.37996312545925204,\n",
       " 3: 0.3324369974907433,\n",
       " 4: 0.13588896379993542,\n",
       " 5: 0.7240542285850496,\n",
       " 6: 0.9062525352545423,\n",
       " 7: 0.13035850141404104,\n",
       " 8: 0.06936321998407258,\n",
       " 9: 0.3093762992278447}"
      ]
     },
     "execution_count": 11,
     "metadata": {},
     "output_type": "execute_result"
    }
   ],
   "source": [
    "random_dict"
   ]
  },
  {
   "cell_type": "markdown",
   "metadata": {},
   "source": [
    "## Perform operations on collection of data\n",
    "The core of data science is performing an operation efficiently on many items in a collection. This can be done with loops, comprehensions or other constructs"
   ]
  },
  {
   "cell_type": "markdown",
   "metadata": {},
   "source": [
    "## Apply an operation\n",
    "You may want to apply the same operation to each item and get the same number of items back as you input"
   ]
  },
  {
   "cell_type": "code",
   "execution_count": 12,
   "metadata": {},
   "outputs": [
    {
     "data": {
      "text/plain": [
       "[1.2618109158835533,\n",
       " 0.5695668258833957,\n",
       " 0.018285896968311732,\n",
       " 0.8051759152915046,\n",
       " 1.8521292269491638,\n",
       " 1.653587515475511,\n",
       " 1.9294970172833499,\n",
       " 0.2835197027213294,\n",
       " 0.7562059608778404,\n",
       " 0.834040245981166]"
      ]
     },
     "execution_count": 12,
     "metadata": {},
     "output_type": "execute_result"
    }
   ],
   "source": [
    "[2* val for val in random_list]"
   ]
  },
  {
   "cell_type": "code",
   "execution_count": 13,
   "metadata": {},
   "outputs": [
    {
     "data": {
      "text/plain": [
       "{0: 1.8417792819415366,\n",
       " 1: 1.8039251321373047,\n",
       " 2: 0.7599262509185041,\n",
       " 3: 0.6648739949814866,\n",
       " 4: 0.27177792759987085,\n",
       " 5: 1.4481084571700993,\n",
       " 6: 1.8125050705090846,\n",
       " 7: 0.2607170028280821,\n",
       " 8: 0.13872643996814515,\n",
       " 9: 0.6187525984556894}"
      ]
     },
     "execution_count": 13,
     "metadata": {},
     "output_type": "execute_result"
    }
   ],
   "source": [
    "{key1: 2 * val1 for key1, val1 in random_dict.items()}"
   ]
  },
  {
   "cell_type": "markdown",
   "metadata": {},
   "source": [
    "Another option is the map function. This applies a function to every item in a collection. This needs us to define a function. We can either do it explcitly or implictly using a lambda."
   ]
  },
  {
   "cell_type": "code",
   "execution_count": 14,
   "metadata": {},
   "outputs": [],
   "source": [
    "def double(x):\n",
    "    return 2 * x"
   ]
  },
  {
   "cell_type": "code",
   "execution_count": 15,
   "metadata": {},
   "outputs": [
    {
     "data": {
      "text/plain": [
       "<map at 0x298c75dbf70>"
      ]
     },
     "execution_count": 15,
     "metadata": {},
     "output_type": "execute_result"
    }
   ],
   "source": [
    "map(double, random_list)"
   ]
  },
  {
   "cell_type": "code",
   "execution_count": 16,
   "metadata": {},
   "outputs": [
    {
     "data": {
      "text/plain": [
       "<map at 0x298c75dbcd0>"
      ]
     },
     "execution_count": 16,
     "metadata": {},
     "output_type": "execute_result"
    }
   ],
   "source": [
    "map(lambda x: 2* x, random_list)"
   ]
  },
  {
   "cell_type": "markdown",
   "metadata": {},
   "source": [
    "In python the operation is not evaluated until  the data is needed. So we get a *generator* object. This is a key idea in python for data science, that we don't actually do the calculation immediately, rather we set up the calculation to do later. This has many advantages:\n",
    "\n",
    "* set up computing pipline interactively\n",
    "* send compute to other computing resource\n",
    "* run asynchronously, so other work can be done while waiting for results.\n",
    "\n",
    "https://wiki.python.org/moin/Generators"
   ]
  },
  {
   "cell_type": "markdown",
   "metadata": {},
   "source": [
    "We can force the calculation to happen by converting the generator to a list."
   ]
  },
  {
   "cell_type": "code",
   "execution_count": 17,
   "metadata": {},
   "outputs": [
    {
     "data": {
      "text/plain": [
       "[1.2618109158835533,\n",
       " 0.5695668258833957,\n",
       " 0.018285896968311732,\n",
       " 0.8051759152915046,\n",
       " 1.8521292269491638,\n",
       " 1.653587515475511,\n",
       " 1.9294970172833499,\n",
       " 0.2835197027213294,\n",
       " 0.7562059608778404,\n",
       " 0.834040245981166]"
      ]
     },
     "execution_count": 17,
     "metadata": {},
     "output_type": "execute_result"
    }
   ],
   "source": [
    "list(map(double, random_list))"
   ]
  },
  {
   "cell_type": "code",
   "execution_count": 18,
   "metadata": {},
   "outputs": [
    {
     "data": {
      "text/plain": [
       "[1.2618109158835533,\n",
       " 0.5695668258833957,\n",
       " 0.018285896968311732,\n",
       " 0.8051759152915046,\n",
       " 1.8521292269491638,\n",
       " 1.653587515475511,\n",
       " 1.9294970172833499,\n",
       " 0.2835197027213294,\n",
       " 0.7562059608778404,\n",
       " 0.834040245981166]"
      ]
     },
     "execution_count": 18,
     "metadata": {},
     "output_type": "execute_result"
    }
   ],
   "source": [
    "list(map(lambda x: 2* x, random_list))"
   ]
  },
  {
   "cell_type": "markdown",
   "metadata": {},
   "source": [
    "### Reductions\n",
    "Another typical operation is to combine values in some way, for example finding the average or max/min."
   ]
  },
  {
   "cell_type": "code",
   "execution_count": 19,
   "metadata": {},
   "outputs": [
    {
     "data": {
      "text/plain": [
       "0.9647485086416749"
      ]
     },
     "execution_count": 19,
     "metadata": {},
     "output_type": "execute_result"
    }
   ],
   "source": [
    "max(random_list)"
   ]
  },
  {
   "cell_type": "code",
   "execution_count": 20,
   "metadata": {},
   "outputs": [
    {
     "data": {
      "text/plain": [
       "0.9208896409707683"
      ]
     },
     "execution_count": 20,
     "metadata": {},
     "output_type": "execute_result"
    }
   ],
   "source": [
    "max(random_dict.values())"
   ]
  },
  {
   "cell_type": "code",
   "execution_count": 21,
   "metadata": {},
   "outputs": [
    {
     "data": {
      "text/plain": [
       "4.981909611657564"
      ]
     },
     "execution_count": 21,
     "metadata": {},
     "output_type": "execute_result"
    }
   ],
   "source": [
    "sum(random_list)"
   ]
  },
  {
   "cell_type": "code",
   "execution_count": 22,
   "metadata": {},
   "outputs": [
    {
     "data": {
      "text/plain": [
       "10"
      ]
     },
     "execution_count": 22,
     "metadata": {},
     "output_type": "execute_result"
    }
   ],
   "source": [
    "len(random_list)"
   ]
  },
  {
   "cell_type": "code",
   "execution_count": 23,
   "metadata": {},
   "outputs": [
    {
     "data": {
      "text/plain": [
       "0.49819096116575634"
      ]
     },
     "execution_count": 23,
     "metadata": {},
     "output_type": "execute_result"
    }
   ],
   "source": [
    "sum(random_list) / len(random_list)"
   ]
  },
  {
   "cell_type": "markdown",
   "metadata": {},
   "source": [
    "## Numerical python with numpy\n",
    "Typically, substantial calculations will be done using a third-party library called **numpy** (a contraction of numerical python). This includes many common numberical operation, as well as important data structures for arrays and matrices.\n",
    "\n",
    "https://numpy.org/doc/\n",
    "\n",
    "## Gridded data\n",
    "Previously we have talked about tabular data with rows and columns. Another common form of data (especially in weather and climate) is gridded data. This is often seen where the data represents measrement over a map. In this case rows and columns are dimensions where the data is measure, for example latitude and longitude. Or it could be position in space in a simulation space (x,y,z). Each grid  could be one measurement, or time could be a dimension too. "
   ]
  },
  {
   "cell_type": "code",
   "execution_count": 24,
   "metadata": {},
   "outputs": [],
   "source": [
    "import numpy"
   ]
  },
  {
   "cell_type": "code",
   "execution_count": 25,
   "metadata": {},
   "outputs": [
    {
     "data": {
      "text/plain": [
       "array([[0.39159397, 0.19523288, 0.25148606, 0.33046419, 0.91538295],\n",
       "       [0.69422057, 0.4034766 , 0.36086626, 0.42657545, 0.82430094],\n",
       "       [0.58477495, 0.6450633 , 0.22148221, 0.82802989, 0.11106428],\n",
       "       [0.67401603, 0.89576269, 0.82875468, 0.63768439, 0.36282644],\n",
       "       [0.1186954 , 0.23943768, 0.53062018, 0.02448055, 0.62101463],\n",
       "       [0.66910387, 0.3336801 , 0.46679358, 0.31969815, 0.52626293],\n",
       "       [0.19905328, 0.97952012, 0.67396033, 0.34615635, 0.77498525],\n",
       "       [0.51208066, 0.81437932, 0.26415219, 0.58637332, 0.53961988],\n",
       "       [0.57190693, 0.68133079, 0.89619385, 0.0860527 , 0.55416342],\n",
       "       [0.13789338, 0.65510426, 0.74065112, 0.71884837, 0.5893251 ]])"
      ]
     },
     "execution_count": 25,
     "metadata": {},
     "output_type": "execute_result"
    }
   ],
   "source": [
    "rand_arr = numpy.random.random((10,5))\n",
    "rand_arr"
   ]
  },
  {
   "cell_type": "markdown",
   "metadata": {},
   "source": [
    "This provides easier arithmetic and additional mathematical functionality. Instead of iterating through each item in the collection, we treat the data as one item."
   ]
  },
  {
   "cell_type": "code",
   "execution_count": 26,
   "metadata": {},
   "outputs": [
    {
     "data": {
      "text/plain": [
       "array([[0.78318795, 0.39046576, 0.50297212, 0.66092838, 1.83076591],\n",
       "       [1.38844115, 0.8069532 , 0.72173253, 0.8531509 , 1.64860188],\n",
       "       [1.16954989, 1.29012659, 0.44296443, 1.65605978, 0.22212855],\n",
       "       [1.34803207, 1.79152538, 1.65750936, 1.27536877, 0.72565289],\n",
       "       [0.2373908 , 0.47887535, 1.06124035, 0.0489611 , 1.24202925],\n",
       "       [1.33820775, 0.6673602 , 0.93358716, 0.6393963 , 1.05252586],\n",
       "       [0.39810656, 1.95904024, 1.34792066, 0.6923127 , 1.5499705 ],\n",
       "       [1.02416131, 1.62875865, 0.52830439, 1.17274665, 1.07923976],\n",
       "       [1.14381387, 1.36266159, 1.79238771, 0.1721054 , 1.10832685],\n",
       "       [0.27578676, 1.31020853, 1.48130223, 1.43769673, 1.17865021]])"
      ]
     },
     "execution_count": 26,
     "metadata": {},
     "output_type": "execute_result"
    }
   ],
   "source": [
    "rand_arr * 2"
   ]
  },
  {
   "cell_type": "code",
   "execution_count": 27,
   "metadata": {},
   "outputs": [],
   "source": [
    "other_arr = numpy.random.random((10,5))"
   ]
  },
  {
   "cell_type": "code",
   "execution_count": 28,
   "metadata": {},
   "outputs": [
    {
     "data": {
      "text/plain": [
       "array([[1.09032825, 0.79000201, 0.6786506 , 0.84164221, 1.32498596],\n",
       "       [1.40037588, 1.09752564, 0.70178069, 0.69227238, 1.63481598],\n",
       "       [0.91021819, 1.43490326, 0.92814679, 1.32899551, 0.82908799],\n",
       "       [1.00589863, 1.01152681, 0.844974  , 1.51844326, 0.89453186],\n",
       "       [0.34566014, 0.51386362, 1.15792986, 0.47510006, 1.05740479],\n",
       "       [1.59257451, 0.35081778, 0.50202539, 0.50439229, 1.18764125],\n",
       "       [0.83806833, 1.93173163, 1.29735852, 1.24004718, 0.95813316],\n",
       "       [1.07545096, 1.05787234, 0.62627003, 0.81182886, 1.01138574],\n",
       "       [1.2466838 , 0.82981868, 1.69152787, 0.22049324, 1.35126063],\n",
       "       [0.59906133, 1.29852883, 1.73893028, 1.14343838, 0.9318513 ]])"
      ]
     },
     "execution_count": 28,
     "metadata": {},
     "output_type": "execute_result"
    }
   ],
   "source": [
    "rand_arr + other_arr"
   ]
  },
  {
   "cell_type": "markdown",
   "metadata": {},
   "source": [
    "We can reduce the whole array e.g. find the mean of the whole array, so reduce per row or column."
   ]
  },
  {
   "cell_type": "code",
   "execution_count": 29,
   "metadata": {},
   "outputs": [
    {
     "data": {
      "text/plain": [
       "1.0109251329979894"
      ]
     },
     "execution_count": 29,
     "metadata": {},
     "output_type": "execute_result"
    }
   ],
   "source": [
    "numpy.mean(rand_arr + other_arr)"
   ]
  },
  {
   "cell_type": "markdown",
   "metadata": {},
   "source": [
    "numpy.mean(rand_arr + other_arr, axis=0)"
   ]
  },
  {
   "cell_type": "code",
   "execution_count": 30,
   "metadata": {},
   "outputs": [
    {
     "data": {
      "text/plain": [
       "array([0.94512181, 1.10535411, 1.08627035, 1.05507491, 0.70999169,\n",
       "       0.82749024, 1.25306776, 0.91656158, 1.06795684, 1.14236203])"
      ]
     },
     "execution_count": 30,
     "metadata": {},
     "output_type": "execute_result"
    }
   ],
   "source": [
    "numpy.mean(rand_arr + other_arr, axis=1)"
   ]
  },
  {
   "cell_type": "code",
   "execution_count": 31,
   "metadata": {},
   "outputs": [
    {
     "data": {
      "text/plain": [
       "0.38201553799333976"
      ]
     },
     "execution_count": 31,
     "metadata": {},
     "output_type": "execute_result"
    }
   ],
   "source": [
    "numpy.std(rand_arr + other_arr)"
   ]
  },
  {
   "cell_type": "markdown",
   "metadata": {},
   "source": [
    "The other common numpy data structure is a matrix, which corrsponds to a mathematical matrix its operations. So rather than a mupltiplcation being element wise, it is proper matrix multiplication."
   ]
  },
  {
   "cell_type": "code",
   "execution_count": 32,
   "metadata": {},
   "outputs": [],
   "source": [
    "rand_arr1 = numpy.random.random((5,5))\n",
    "rand_mat1 = numpy.matrix(rand_arr1)\n",
    "rand_arr2 = numpy.random.random((5,5))\n",
    "rand_mat2 = numpy.matrix(rand_arr2)"
   ]
  },
  {
   "cell_type": "code",
   "execution_count": 33,
   "metadata": {},
   "outputs": [
    {
     "data": {
      "text/plain": [
       "array([[0.17482449, 0.0898594 , 0.56025977, 0.52480482, 0.72214856],\n",
       "       [0.81871591, 0.34880327, 0.04820043, 0.15051222, 0.41089606],\n",
       "       [0.15313367, 0.73203066, 0.0170223 , 0.08250347, 0.00441079],\n",
       "       [0.54937147, 0.38829555, 0.05373273, 0.09716188, 0.07331081],\n",
       "       [0.12087364, 0.28076633, 0.09731636, 0.02960796, 0.12264091]])"
      ]
     },
     "execution_count": 33,
     "metadata": {},
     "output_type": "execute_result"
    }
   ],
   "source": [
    "rand_arr1 * rand_arr2"
   ]
  },
  {
   "cell_type": "code",
   "execution_count": 34,
   "metadata": {},
   "outputs": [
    {
     "data": {
      "text/plain": [
       "0.17482448982410734"
      ]
     },
     "execution_count": 34,
     "metadata": {},
     "output_type": "execute_result"
    }
   ],
   "source": [
    "rand_arr1[0,0] * rand_arr2[0,0]"
   ]
  },
  {
   "cell_type": "code",
   "execution_count": 35,
   "metadata": {},
   "outputs": [
    {
     "data": {
      "text/plain": [
       "matrix([[1.32007659, 1.60933079, 1.99679218, 1.24116983, 1.91305032],\n",
       "        [1.97434982, 1.48255599, 2.2529797 , 1.56219925, 2.66441653],\n",
       "        [1.85580506, 1.23056987, 1.76602357, 1.21429134, 2.24226466],\n",
       "        [1.05205017, 0.69673758, 1.22265516, 0.74566429, 1.39162798],\n",
       "        [1.00932405, 0.65028813, 1.23123917, 0.71299929, 1.3848155 ]])"
      ]
     },
     "execution_count": 35,
     "metadata": {},
     "output_type": "execute_result"
    }
   ],
   "source": [
    "rand_mat1 * rand_mat2"
   ]
  },
  {
   "cell_type": "code",
   "execution_count": 36,
   "metadata": {},
   "outputs": [
    {
     "data": {
      "text/plain": [
       "1.3200765944155544"
      ]
     },
     "execution_count": 36,
     "metadata": {},
     "output_type": "execute_result"
    }
   ],
   "source": [
    "rand_mat1[0,0] * rand_mat2[0,0] + rand_mat1[0,1] * rand_mat2[1,0] + rand_mat1[0,2] * rand_mat2[2,0] + rand_mat1[0,3] * rand_mat2[3,0] + rand_mat1[0,4] * rand_mat2[4,0] "
   ]
  },
  {
   "cell_type": "markdown",
   "metadata": {},
   "source": [
    "### Gridded data - loading data with numpy\n",
    "These array and matrics we have looked are a basic form of **gridded data**. Numpy also provides facility to load and save the arrays."
   ]
  },
  {
   "cell_type": "code",
   "execution_count": 40,
   "metadata": {},
   "outputs": [],
   "source": [
    "temperature_over_area = numpy.load('temperature_array.npy')"
   ]
  },
  {
   "cell_type": "code",
   "execution_count": 41,
   "metadata": {},
   "outputs": [
    {
     "data": {
      "text/plain": [
       "array([[18.05090192, 20.66892923, 18.37048554, 20.91876376, 18.57018236,\n",
       "        18.44529363, 19.29508459, 19.29082912, 20.46986608, 20.94537239],\n",
       "       [18.95127915, 20.43983377, 19.47468056, 20.33069831, 20.37023327,\n",
       "        20.10496052, 19.02630103, 18.16851119, 19.34132244, 18.65887918],\n",
       "       [20.07716553, 20.88823731, 19.32669691, 18.92281521, 19.74691879,\n",
       "        20.28514086, 19.183739  , 18.49641599, 19.94639299, 18.8612542 ],\n",
       "       [18.32338158, 20.89380241, 18.7890516 , 18.66498427, 19.9782269 ,\n",
       "        19.6507164 , 20.44658416, 18.06508393, 18.03652572, 20.418911  ],\n",
       "       [19.57580613, 19.11774043, 20.18036861, 18.24386774, 18.31121294,\n",
       "        19.84890236, 18.71623467, 20.66135428, 19.8525222 , 19.92471281],\n",
       "       [19.85023776, 20.7555955 , 20.30495666, 18.36882182, 19.63473087,\n",
       "        20.07055492, 18.59296162, 20.9064832 , 19.02670594, 20.64855901],\n",
       "       [20.40251869, 18.32844241, 18.2162265 , 19.26700006, 19.15637431,\n",
       "        20.53333001, 20.19741219, 18.7243629 , 18.55270206, 19.82090858],\n",
       "       [20.78649461, 20.12936485, 19.40389177, 19.85106492, 20.72988722,\n",
       "        20.66100434, 20.92858647, 20.39885856, 20.91305342, 19.38342541],\n",
       "       [20.41693639, 20.28243806, 18.66687643, 19.63423801, 18.0738174 ,\n",
       "        19.0691236 , 20.73117224, 20.049675  , 18.26246182, 19.80921466],\n",
       "       [20.27717068, 20.00172616, 19.3266189 , 18.73201903, 18.63965013,\n",
       "        19.28938462, 19.53172843, 19.69977637, 18.65529935, 20.3662233 ]])"
      ]
     },
     "execution_count": 41,
     "metadata": {},
     "output_type": "execute_result"
    }
   ],
   "source": [
    "temperature_over_area"
   ]
  },
  {
   "cell_type": "markdown",
   "metadata": {},
   "source": [
    "We have successfully loaded in our data, but we don't anything about it. What area is this? When was the measurement taken? What is unit, Celsuis, Fahrenheit or another? We will think about this further in the section on Data Models."
   ]
  },
  {
   "cell_type": "markdown",
   "metadata": {},
   "source": [
    "We can see here how numpy allows us to take a higher-level view of the data compared to manipulating the data directly with manual python code, abtract away some of the implementation  details. We will continue to  develop theme of higher-level objects with more abtraction. "
   ]
  }
 ],
 "metadata": {
  "kernelspec": {
   "display_name": "Python 3",
   "language": "python",
   "name": "python3"
  },
  "language_info": {
   "codemirror_mode": {
    "name": "ipython",
    "version": 3
   },
   "file_extension": ".py",
   "mimetype": "text/x-python",
   "name": "python",
   "nbconvert_exporter": "python",
   "pygments_lexer": "ipython3",
   "version": "3.8.3"
  }
 },
 "nbformat": 4,
 "nbformat_minor": 4
}
